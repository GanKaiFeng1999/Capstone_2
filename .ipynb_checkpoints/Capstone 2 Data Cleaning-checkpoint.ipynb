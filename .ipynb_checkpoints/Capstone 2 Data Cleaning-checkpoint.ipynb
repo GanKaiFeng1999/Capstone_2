{
 "cells": [
  {
   "cell_type": "markdown",
   "metadata": {},
   "source": [
    "## Load the Dataset"
   ]
  },
  {
   "cell_type": "code",
   "execution_count": 1,
   "metadata": {},
   "outputs": [],
   "source": [
    "# Import libraries\n",
    "\n",
    "import numpy as np\n",
    "import pandas as pd\n",
    "import matplotlib.pyplot as plt\n",
    "import seaborn as sns\n",
    "import re\n",
    "import overpy\n",
    "import time\n",
    "from geopy.geocoders import Nominatim\n",
    "pd.set_option('display.float_format', lambda x: '%.2f' % x)"
   ]
  },
  {
   "cell_type": "code",
   "execution_count": 2,
   "metadata": {},
   "outputs": [
    {
     "data": {
      "text/html": [
       "<div>\n",
       "<style scoped>\n",
       "    .dataframe tbody tr th:only-of-type {\n",
       "        vertical-align: middle;\n",
       "    }\n",
       "\n",
       "    .dataframe tbody tr th {\n",
       "        vertical-align: top;\n",
       "    }\n",
       "\n",
       "    .dataframe thead th {\n",
       "        text-align: right;\n",
       "    }\n",
       "</style>\n",
       "<table border=\"1\" class=\"dataframe\">\n",
       "  <thead>\n",
       "    <tr style=\"text-align: right;\">\n",
       "      <th></th>\n",
       "      <th>Location</th>\n",
       "      <th>Price</th>\n",
       "      <th>Rooms</th>\n",
       "      <th>Bathrooms</th>\n",
       "      <th>Car Parks</th>\n",
       "      <th>Property Type</th>\n",
       "      <th>Size</th>\n",
       "      <th>Furnishing</th>\n",
       "    </tr>\n",
       "  </thead>\n",
       "  <tbody>\n",
       "    <tr>\n",
       "      <th>0</th>\n",
       "      <td>KLCC, Kuala Lumpur</td>\n",
       "      <td>RM 1,250,000</td>\n",
       "      <td>2+1</td>\n",
       "      <td>3.00</td>\n",
       "      <td>2.00</td>\n",
       "      <td>Serviced Residence</td>\n",
       "      <td>Built-up : 1,335 sq. ft.</td>\n",
       "      <td>Fully Furnished</td>\n",
       "    </tr>\n",
       "    <tr>\n",
       "      <th>1</th>\n",
       "      <td>Damansara Heights, Kuala Lumpur</td>\n",
       "      <td>RM 6,800,000</td>\n",
       "      <td>6</td>\n",
       "      <td>7.00</td>\n",
       "      <td>NaN</td>\n",
       "      <td>Bungalow</td>\n",
       "      <td>Land area : 6900 sq. ft.</td>\n",
       "      <td>Partly Furnished</td>\n",
       "    </tr>\n",
       "    <tr>\n",
       "      <th>2</th>\n",
       "      <td>Dutamas, Kuala Lumpur</td>\n",
       "      <td>RM 1,030,000</td>\n",
       "      <td>3</td>\n",
       "      <td>4.00</td>\n",
       "      <td>2.00</td>\n",
       "      <td>Condominium (Corner)</td>\n",
       "      <td>Built-up : 1,875 sq. ft.</td>\n",
       "      <td>Partly Furnished</td>\n",
       "    </tr>\n",
       "    <tr>\n",
       "      <th>3</th>\n",
       "      <td>Cheras, Kuala Lumpur</td>\n",
       "      <td>NaN</td>\n",
       "      <td>NaN</td>\n",
       "      <td>NaN</td>\n",
       "      <td>NaN</td>\n",
       "      <td>NaN</td>\n",
       "      <td>NaN</td>\n",
       "      <td>NaN</td>\n",
       "    </tr>\n",
       "    <tr>\n",
       "      <th>4</th>\n",
       "      <td>Bukit Jalil, Kuala Lumpur</td>\n",
       "      <td>RM 900,000</td>\n",
       "      <td>4+1</td>\n",
       "      <td>3.00</td>\n",
       "      <td>2.00</td>\n",
       "      <td>Condominium (Corner)</td>\n",
       "      <td>Built-up : 1,513 sq. ft.</td>\n",
       "      <td>Partly Furnished</td>\n",
       "    </tr>\n",
       "  </tbody>\n",
       "</table>\n",
       "</div>"
      ],
      "text/plain": [
       "                          Location         Price Rooms  Bathrooms  Car Parks  \\\n",
       "0               KLCC, Kuala Lumpur  RM 1,250,000   2+1       3.00       2.00   \n",
       "1  Damansara Heights, Kuala Lumpur  RM 6,800,000     6       7.00        NaN   \n",
       "2            Dutamas, Kuala Lumpur  RM 1,030,000     3       4.00       2.00   \n",
       "3             Cheras, Kuala Lumpur           NaN   NaN        NaN        NaN   \n",
       "4        Bukit Jalil, Kuala Lumpur    RM 900,000   4+1       3.00       2.00   \n",
       "\n",
       "          Property Type                      Size        Furnishing  \n",
       "0    Serviced Residence  Built-up : 1,335 sq. ft.   Fully Furnished  \n",
       "1              Bungalow  Land area : 6900 sq. ft.  Partly Furnished  \n",
       "2  Condominium (Corner)  Built-up : 1,875 sq. ft.  Partly Furnished  \n",
       "3                   NaN                       NaN               NaN  \n",
       "4  Condominium (Corner)  Built-up : 1,513 sq. ft.  Partly Furnished  "
      ]
     },
     "execution_count": 2,
     "metadata": {},
     "output_type": "execute_result"
    }
   ],
   "source": [
    "# Load the dataset\n",
    "\n",
    "df = pd.read_csv('data_kaggle.csv')\n",
    "df.head()"
   ]
  },
  {
   "cell_type": "code",
   "execution_count": 3,
   "metadata": {},
   "outputs": [
    {
     "data": {
      "text/plain": [
       "(53883, 8)"
      ]
     },
     "execution_count": 3,
     "metadata": {},
     "output_type": "execute_result"
    }
   ],
   "source": [
    "# View shape of the dataset\n",
    "\n",
    "df.shape"
   ]
  },
  {
   "cell_type": "code",
   "execution_count": 4,
   "metadata": {},
   "outputs": [
    {
     "name": "stdout",
     "output_type": "stream",
     "text": [
      "<class 'pandas.core.frame.DataFrame'>\n",
      "RangeIndex: 53883 entries, 0 to 53882\n",
      "Data columns (total 8 columns):\n",
      " #   Column         Non-Null Count  Dtype  \n",
      "---  ------         --------------  -----  \n",
      " 0   Location       53883 non-null  object \n",
      " 1   Price          53635 non-null  object \n",
      " 2   Rooms          52177 non-null  object \n",
      " 3   Bathrooms      51870 non-null  float64\n",
      " 4   Car Parks      36316 non-null  float64\n",
      " 5   Property Type  53858 non-null  object \n",
      " 6   Size           52820 non-null  object \n",
      " 7   Furnishing     46953 non-null  object \n",
      "dtypes: float64(2), object(6)\n",
      "memory usage: 3.3+ MB\n"
     ]
    }
   ],
   "source": [
    "# View basic information\n",
    "\n",
    "df.info()"
   ]
  },
  {
   "cell_type": "code",
   "execution_count": 5,
   "metadata": {},
   "outputs": [
    {
     "data": {
      "text/html": [
       "<div>\n",
       "<style scoped>\n",
       "    .dataframe tbody tr th:only-of-type {\n",
       "        vertical-align: middle;\n",
       "    }\n",
       "\n",
       "    .dataframe tbody tr th {\n",
       "        vertical-align: top;\n",
       "    }\n",
       "\n",
       "    .dataframe thead th {\n",
       "        text-align: right;\n",
       "    }\n",
       "</style>\n",
       "<table border=\"1\" class=\"dataframe\">\n",
       "  <thead>\n",
       "    <tr style=\"text-align: right;\">\n",
       "      <th></th>\n",
       "      <th>Bathrooms</th>\n",
       "      <th>Car Parks</th>\n",
       "    </tr>\n",
       "  </thead>\n",
       "  <tbody>\n",
       "    <tr>\n",
       "      <th>count</th>\n",
       "      <td>51870.00</td>\n",
       "      <td>36316.00</td>\n",
       "    </tr>\n",
       "    <tr>\n",
       "      <th>mean</th>\n",
       "      <td>3.07</td>\n",
       "      <td>2.01</td>\n",
       "    </tr>\n",
       "    <tr>\n",
       "      <th>std</th>\n",
       "      <td>1.63</td>\n",
       "      <td>1.31</td>\n",
       "    </tr>\n",
       "    <tr>\n",
       "      <th>min</th>\n",
       "      <td>1.00</td>\n",
       "      <td>1.00</td>\n",
       "    </tr>\n",
       "    <tr>\n",
       "      <th>25%</th>\n",
       "      <td>2.00</td>\n",
       "      <td>1.00</td>\n",
       "    </tr>\n",
       "    <tr>\n",
       "      <th>50%</th>\n",
       "      <td>2.00</td>\n",
       "      <td>2.00</td>\n",
       "    </tr>\n",
       "    <tr>\n",
       "      <th>75%</th>\n",
       "      <td>4.00</td>\n",
       "      <td>2.00</td>\n",
       "    </tr>\n",
       "    <tr>\n",
       "      <th>max</th>\n",
       "      <td>20.00</td>\n",
       "      <td>30.00</td>\n",
       "    </tr>\n",
       "  </tbody>\n",
       "</table>\n",
       "</div>"
      ],
      "text/plain": [
       "       Bathrooms  Car Parks\n",
       "count   51870.00   36316.00\n",
       "mean        3.07       2.01\n",
       "std         1.63       1.31\n",
       "min         1.00       1.00\n",
       "25%         2.00       1.00\n",
       "50%         2.00       2.00\n",
       "75%         4.00       2.00\n",
       "max        20.00      30.00"
      ]
     },
     "execution_count": 5,
     "metadata": {},
     "output_type": "execute_result"
    }
   ],
   "source": [
    "# View descriptive statistics\n",
    "\n",
    "df.describe()"
   ]
  },
  {
   "cell_type": "markdown",
   "metadata": {},
   "source": [
    "## Data Pre-processing"
   ]
  },
  {
   "cell_type": "markdown",
   "metadata": {},
   "source": [
    "### Handling Missing Values"
   ]
  },
  {
   "cell_type": "code",
   "execution_count": 6,
   "metadata": {},
   "outputs": [
    {
     "data": {
      "text/plain": [
       "Location             0\n",
       "Price              248\n",
       "Rooms             1706\n",
       "Bathrooms         2013\n",
       "Car Parks        17567\n",
       "Property Type       25\n",
       "Size              1063\n",
       "Furnishing        6930\n",
       "dtype: int64"
      ]
     },
     "execution_count": 6,
     "metadata": {},
     "output_type": "execute_result"
    }
   ],
   "source": [
    "# Find missing values\n",
    "\n",
    "df.isnull().sum()"
   ]
  },
  {
   "cell_type": "code",
   "execution_count": 7,
   "metadata": {},
   "outputs": [],
   "source": [
    "# Drop Car Parks since too many missing values\n",
    "\n",
    "df.drop(['Car Parks'], axis=1, inplace=True)"
   ]
  },
  {
   "cell_type": "code",
   "execution_count": 8,
   "metadata": {},
   "outputs": [],
   "source": [
    "# Impute Bathrooms with median\n",
    "\n",
    "median = df['Bathrooms'].median()\n",
    "df['Bathrooms'].fillna(median, inplace=True)"
   ]
  },
  {
   "cell_type": "code",
   "execution_count": 9,
   "metadata": {},
   "outputs": [],
   "source": [
    "# Impute Rooms, Property Type and Furnishing with mode\n",
    "\n",
    "cols = ['Rooms', 'Property Type', 'Furnishing']\n",
    "for col in cols:\n",
    "    mode = df[col].mode()[0]\n",
    "    df[col].fillna(mode, inplace=True)"
   ]
  },
  {
   "cell_type": "code",
   "execution_count": 10,
   "metadata": {},
   "outputs": [],
   "source": [
    "# Drop rows with missing Price values\n",
    "\n",
    "df.dropna(subset=['Price'], how='all', inplace=True)"
   ]
  },
  {
   "cell_type": "code",
   "execution_count": 11,
   "metadata": {},
   "outputs": [
    {
     "data": {
      "text/plain": [
       "Location            0\n",
       "Price               0\n",
       "Rooms               0\n",
       "Bathrooms           0\n",
       "Property Type       0\n",
       "Size             1024\n",
       "Furnishing          0\n",
       "dtype: int64"
      ]
     },
     "execution_count": 11,
     "metadata": {},
     "output_type": "execute_result"
    }
   ],
   "source": [
    "# Find missing values\n",
    "\n",
    "df.isnull().sum()"
   ]
  },
  {
   "cell_type": "markdown",
   "metadata": {},
   "source": [
    "### Formatting and Removing Outliers"
   ]
  },
  {
   "cell_type": "markdown",
   "metadata": {},
   "source": [
    "### Location"
   ]
  },
  {
   "cell_type": "code",
   "execution_count": 12,
   "metadata": {},
   "outputs": [
    {
     "data": {
      "text/plain": [
       "Mont Kiara, Kuala Lumpur                           5862\n",
       "KLCC, Kuala Lumpur                                 5216\n",
       "Cheras, Kuala Lumpur                               4483\n",
       "Jalan Klang Lama (Old Klang Road), Kuala Lumpur    2845\n",
       "Setapak, Kuala Lumpur                              2699\n",
       "                                                   ... \n",
       "Bukit  Persekutuan, Kuala Lumpur                      1\n",
       "Wangsa Melawati, Kuala Lumpur                         1\n",
       "Taman Yarl OUG, Kuala Lumpur                          1\n",
       "Kota Damansara, Kuala Lumpur                          1\n",
       "Kuala Lumpur, Kuala Lumpur                            1\n",
       "Name: Location, Length: 111, dtype: int64"
      ]
     },
     "execution_count": 12,
     "metadata": {},
     "output_type": "execute_result"
    }
   ],
   "source": [
    "# View value counts of Location\n",
    "\n",
    "df['Location'].value_counts()"
   ]
  },
  {
   "cell_type": "code",
   "execution_count": 13,
   "metadata": {},
   "outputs": [
    {
     "name": "stdout",
     "output_type": "stream",
     "text": [
      "(53556, 7)\n"
     ]
    }
   ],
   "source": [
    "# Drop locations which appear 10 or less times\n",
    "\n",
    "morethan10 = df['Location'].value_counts().loc[lambda x: x > 10].index\n",
    "df = df[df['Location'].isin(atleast10)]\n",
    "print(df.shape)"
   ]
  },
  {
   "cell_type": "code",
   "execution_count": 14,
   "metadata": {},
   "outputs": [
    {
     "data": {
      "text/plain": [
       "62"
      ]
     },
     "execution_count": 14,
     "metadata": {},
     "output_type": "execute_result"
    }
   ],
   "source": [
    "# Find number of unique locations\n",
    "\n",
    "df['Location'].nunique()"
   ]
  },
  {
   "cell_type": "markdown",
   "metadata": {},
   "source": [
    "### Price"
   ]
  },
  {
   "cell_type": "code",
   "execution_count": 15,
   "metadata": {},
   "outputs": [
    {
     "data": {
      "text/plain": [
       "0         1,250,000\n",
       "1         6,800,000\n",
       "2         1,030,000\n",
       "4           900,000\n",
       "5         5,350,000\n",
       "            ...    \n",
       "53878     5,100,000\n",
       "53879     5,000,000\n",
       "53880     5,500,000\n",
       "53881       480,000\n",
       "53882       540,000\n",
       "Name: Price, Length: 53556, dtype: object"
      ]
     },
     "execution_count": 15,
     "metadata": {},
     "output_type": "execute_result"
    }
   ],
   "source": [
    "# Remove RM from Price values\n",
    "\n",
    "df['Price'] = df['Price'].apply(lambda x: x[2:])\n",
    "df['Price']"
   ]
  },
  {
   "cell_type": "code",
   "execution_count": 16,
   "metadata": {},
   "outputs": [
    {
     "data": {
      "text/plain": [
       "'en_CA.UTF-8'"
      ]
     },
     "execution_count": 16,
     "metadata": {},
     "output_type": "execute_result"
    }
   ],
   "source": [
    "# Import and set locale\n",
    "\n",
    "import locale\n",
    "locale.setlocale(locale.LC_ALL, 'en_CA.UTF-8')"
   ]
  },
  {
   "cell_type": "code",
   "execution_count": 17,
   "metadata": {},
   "outputs": [
    {
     "data": {
      "text/plain": [
       "0       1250000.00\n",
       "1       6800000.00\n",
       "2       1030000.00\n",
       "4        900000.00\n",
       "5       5350000.00\n",
       "           ...    \n",
       "53878   5100000.00\n",
       "53879   5000000.00\n",
       "53880   5500000.00\n",
       "53881    480000.00\n",
       "53882    540000.00\n",
       "Name: Price, Length: 53556, dtype: float64"
      ]
     },
     "execution_count": 17,
     "metadata": {},
     "output_type": "execute_result"
    }
   ],
   "source": [
    "# Convert Price to numerical values\n",
    "\n",
    "df['Price'] = df['Price'].apply(lambda x: locale.atof(x))\n",
    "df['Price']"
   ]
  },
  {
   "cell_type": "code",
   "execution_count": 18,
   "metadata": {},
   "outputs": [
    {
     "data": {
      "text/plain": [
       "40037    10.00\n",
       "16383   308.00\n",
       "46527   330.00\n",
       "19939   330.00\n",
       "21941   365.00\n",
       "35872   380.00\n",
       "21938   390.00\n",
       "20357   400.00\n",
       "4719    408.00\n",
       "45626   493.00\n",
       "Name: Price, dtype: float64"
      ]
     },
     "execution_count": 18,
     "metadata": {},
     "output_type": "execute_result"
    }
   ],
   "source": [
    "df['Price'].sort_values(ascending=True).head(10)"
   ]
  },
  {
   "cell_type": "code",
   "execution_count": 19,
   "metadata": {},
   "outputs": [
    {
     "data": {
      "text/plain": [
       "21101   1980000000.00\n",
       "12114   1600000000.00\n",
       "5012    1123000000.00\n",
       "34994    814572000.00\n",
       "32647    415177610.00\n",
       "17952    370416816.00\n",
       "32648    370000000.00\n",
       "29822    339768000.00\n",
       "25957    262666800.00\n",
       "7475     216000000.00\n",
       "Name: Price, dtype: float64"
      ]
     },
     "execution_count": 19,
     "metadata": {},
     "output_type": "execute_result"
    }
   ],
   "source": [
    "df['Price'].sort_values(ascending=False).head(10)"
   ]
  },
  {
   "cell_type": "code",
   "execution_count": 20,
   "metadata": {},
   "outputs": [
    {
     "name": "stdout",
     "output_type": "stream",
     "text": [
      "2.5th Percentile : 285000.0\n",
      "97.5th Percentile : 8800000.0\n"
     ]
    }
   ],
   "source": [
    "p025 = df['Price'].quantile(0.025)\n",
    "p975 = df['Price'].quantile(0.975)\n",
    "\n",
    "print('2.5th Percentile : ' + str(p025))\n",
    "print('97.5th Percentile : ' + str(p975))"
   ]
  },
  {
   "cell_type": "code",
   "execution_count": 21,
   "metadata": {},
   "outputs": [
    {
     "name": "stdout",
     "output_type": "stream",
     "text": [
      "(50860, 7)\n"
     ]
    }
   ],
   "source": [
    "# Remove outliers\n",
    "\n",
    "df = df[(df['Price'] > p025) & (df['Price'] < p975)]\n",
    "print(df.shape)"
   ]
  },
  {
   "cell_type": "markdown",
   "metadata": {},
   "source": [
    "### Rooms"
   ]
  },
  {
   "cell_type": "code",
   "execution_count": 22,
   "metadata": {},
   "outputs": [
    {
     "data": {
      "text/plain": [
       "array(['2+1', '6', '3', '4+1', '4+2', '5', '4', '3+1', '6+1', '5+1',\n",
       "       '3+2', '1', '2', '1+1', '5+2', '2+2', '7+1', 'Studio', '7', '8',\n",
       "       '1+2', '6+', '8+', '8+1', '9', '10', '7+', '13+', '9+1', '11',\n",
       "       '18', '10+', '20 Above', '12', '10+1', '12+', '9+', '11+1'],\n",
       "      dtype=object)"
      ]
     },
     "execution_count": 22,
     "metadata": {},
     "output_type": "execute_result"
    }
   ],
   "source": [
    "# View value counts of Bedrooms\n",
    "\n",
    "df['Rooms'].unique()"
   ]
  },
  {
   "cell_type": "code",
   "execution_count": 23,
   "metadata": {},
   "outputs": [],
   "source": [
    "def convert_rooms(x):\n",
    "    try:\n",
    "        if x.endswith('+'):\n",
    "            return [x[:-1]]\n",
    "        if x == '20 Above':\n",
    "            return [20]\n",
    "        if x == 'Studio':\n",
    "            return [1]\n",
    "        if x != np.NaN:\n",
    "            return x.split('+')\n",
    "    except AttributeError:\n",
    "        return x"
   ]
  },
  {
   "cell_type": "code",
   "execution_count": 24,
   "metadata": {},
   "outputs": [
    {
     "data": {
      "text/plain": [
       "0        [2, 1]\n",
       "1           [6]\n",
       "2           [3]\n",
       "4        [4, 1]\n",
       "5        [4, 2]\n",
       "          ...  \n",
       "53878    [5, 1]\n",
       "53879       [5]\n",
       "53880    [5, 1]\n",
       "53881       [3]\n",
       "53882       [4]\n",
       "Name: Rooms, Length: 50860, dtype: object"
      ]
     },
     "execution_count": 24,
     "metadata": {},
     "output_type": "execute_result"
    }
   ],
   "source": [
    "df['Rooms'] = df['Rooms'].apply(lambda x: convert_rooms(x))\n",
    "df['Rooms']"
   ]
  },
  {
   "cell_type": "code",
   "execution_count": 25,
   "metadata": {},
   "outputs": [
    {
     "data": {
      "text/plain": [
       "0        1\n",
       "1        0\n",
       "2        0\n",
       "4        1\n",
       "5        2\n",
       "        ..\n",
       "53878    1\n",
       "53879    0\n",
       "53880    1\n",
       "53881    0\n",
       "53882    0\n",
       "Name: Store Rooms, Length: 50860, dtype: object"
      ]
     },
     "execution_count": 25,
     "metadata": {},
     "output_type": "execute_result"
    }
   ],
   "source": [
    "df['Store Rooms'] = df['Rooms'].apply(lambda x: x[1] if len(x)>1 else 0)\n",
    "df['Store Rooms']"
   ]
  },
  {
   "cell_type": "code",
   "execution_count": 26,
   "metadata": {},
   "outputs": [
    {
     "data": {
      "text/plain": [
       "0        2\n",
       "1        6\n",
       "2        3\n",
       "4        4\n",
       "5        4\n",
       "        ..\n",
       "53878    5\n",
       "53879    5\n",
       "53880    5\n",
       "53881    3\n",
       "53882    4\n",
       "Name: Rooms, Length: 50860, dtype: object"
      ]
     },
     "execution_count": 26,
     "metadata": {},
     "output_type": "execute_result"
    }
   ],
   "source": [
    "df['Rooms'] = df['Rooms'].apply(lambda x: x[0])\n",
    "df['Rooms']"
   ]
  },
  {
   "cell_type": "code",
   "execution_count": 27,
   "metadata": {},
   "outputs": [],
   "source": [
    "# Convert Rooms and Stroe Rooms to numerical values\n",
    "\n",
    "df['Rooms'] = df['Rooms'].astype(int)\n",
    "df['Store Rooms'] = df['Store Rooms'].astype(int)"
   ]
  },
  {
   "cell_type": "code",
   "execution_count": 28,
   "metadata": {},
   "outputs": [
    {
     "data": {
      "text/plain": [
       "3     23161\n",
       "4      9637\n",
       "2      7154\n",
       "5      4423\n",
       "1      4245\n",
       "6      1551\n",
       "7       469\n",
       "8       147\n",
       "9        40\n",
       "10       19\n",
       "11        5\n",
       "12        4\n",
       "20        3\n",
       "13        1\n",
       "18        1\n",
       "Name: Rooms, dtype: int64"
      ]
     },
     "execution_count": 28,
     "metadata": {},
     "output_type": "execute_result"
    }
   ],
   "source": [
    "# View value counts of Rooms\n",
    "\n",
    "df['Rooms'].value_counts()"
   ]
  },
  {
   "cell_type": "code",
   "execution_count": 29,
   "metadata": {},
   "outputs": [
    {
     "name": "stdout",
     "output_type": "stream",
     "text": [
      "(50640, 8)\n"
     ]
    }
   ],
   "source": [
    "# Remove outliers\n",
    "\n",
    "df = df[df['Rooms'] <= 7]\n",
    "print(df.shape)"
   ]
  },
  {
   "cell_type": "code",
   "execution_count": 30,
   "metadata": {},
   "outputs": [
    {
     "data": {
      "text/plain": [
       "0    31136\n",
       "1    18173\n",
       "2     1331\n",
       "Name: Store Rooms, dtype: int64"
      ]
     },
     "execution_count": 30,
     "metadata": {},
     "output_type": "execute_result"
    }
   ],
   "source": [
    "df['Store Rooms'].value_counts()"
   ]
  },
  {
   "cell_type": "markdown",
   "metadata": {},
   "source": [
    "### Bathrooms"
   ]
  },
  {
   "cell_type": "code",
   "execution_count": 31,
   "metadata": {},
   "outputs": [
    {
     "data": {
      "text/plain": [
       "2.00     22172\n",
       "3.00      9384\n",
       "4.00      6471\n",
       "5.00      4538\n",
       "1.00      4104\n",
       "6.00      2886\n",
       "7.00       802\n",
       "8.00       226\n",
       "9.00        44\n",
       "10.00        7\n",
       "20.00        4\n",
       "11.00        1\n",
       "15.00        1\n",
       "Name: Bathrooms, dtype: int64"
      ]
     },
     "execution_count": 31,
     "metadata": {},
     "output_type": "execute_result"
    }
   ],
   "source": [
    "# View value counts of Bathrooms\n",
    "\n",
    "df['Bathrooms'].value_counts()"
   ]
  },
  {
   "cell_type": "code",
   "execution_count": 32,
   "metadata": {},
   "outputs": [
    {
     "name": "stdout",
     "output_type": "stream",
     "text": [
      "(50357, 8)\n"
     ]
    }
   ],
   "source": [
    "# Remove outliers\n",
    "\n",
    "df = df[df['Bathrooms'] <= 7]\n",
    "print(df.shape)"
   ]
  },
  {
   "cell_type": "markdown",
   "metadata": {},
   "source": [
    "### Property Type"
   ]
  },
  {
   "cell_type": "code",
   "execution_count": 33,
   "metadata": {},
   "outputs": [
    {
     "data": {
      "text/plain": [
       "Condominium                               11171\n",
       "Serviced Residence                         7040\n",
       "Condominium (Corner)                       5607\n",
       "Condominium (Intermediate)                 5001\n",
       "Serviced Residence (Intermediate)          3232\n",
       "                                          ...  \n",
       "2.5-sty Terrace/Link House (Triplex)          1\n",
       "4-sty Terrace/Link House (Penthouse)          1\n",
       "3-sty Terrace/Link House (Triplex)            1\n",
       "2.5-sty Terrace/Link House (Penthouse)        1\n",
       "4.5-sty Terrace/Link House (Corner)           1\n",
       "Name: Property Type, Length: 95, dtype: int64"
      ]
     },
     "execution_count": 33,
     "metadata": {},
     "output_type": "execute_result"
    }
   ],
   "source": [
    "# View value counts of Property Type\n",
    "\n",
    "df['Property Type'].value_counts()"
   ]
  },
  {
   "cell_type": "code",
   "execution_count": 34,
   "metadata": {},
   "outputs": [],
   "source": [
    "def convert_type(x):\n",
    "    types = [\"Terrace/Link House\", \"Serviced Residence\", \"Condominium\", \n",
    "            \"Semi-detached House\", \"Bungalow\", \"Apartment\", \"Townhouse\", \n",
    "            \"Flat\", \"Residential Land\", \"Cluster House\"]\n",
    "    for type in types:\n",
    "        if re.search(type, x, flags=re.IGNORECASE) is not None:\n",
    "            return type\n",
    "    return x"
   ]
  },
  {
   "cell_type": "code",
   "execution_count": 35,
   "metadata": {},
   "outputs": [],
   "source": [
    "df['Property Type'] = df['Property Type'].apply(lambda x: convert_type(x))"
   ]
  },
  {
   "cell_type": "code",
   "execution_count": 36,
   "metadata": {},
   "outputs": [
    {
     "data": {
      "text/plain": [
       "Condominium            22634\n",
       "Serviced Residence     13176\n",
       "Terrace/Link House      7632\n",
       "Bungalow                2463\n",
       "Semi-detached House     2069\n",
       "Apartment               1287\n",
       "Townhouse                542\n",
       "Residential Land         506\n",
       "Flat                      40\n",
       "Cluster House              8\n",
       "Name: Property Type, dtype: int64"
      ]
     },
     "execution_count": 36,
     "metadata": {},
     "output_type": "execute_result"
    }
   ],
   "source": [
    "# View value counts of Property Type\n",
    "\n",
    "df['Property Type'].value_counts()"
   ]
  },
  {
   "cell_type": "code",
   "execution_count": 37,
   "metadata": {},
   "outputs": [
    {
     "name": "stdout",
     "output_type": "stream",
     "text": [
      "(50349, 8)\n"
     ]
    }
   ],
   "source": [
    "# Remove Cluster House since only 8 rows\n",
    "\n",
    "df = df[df['Property Type'] != 'Cluster House']\n",
    "print(df.shape)"
   ]
  },
  {
   "cell_type": "markdown",
   "metadata": {},
   "source": [
    "### Size"
   ]
  },
  {
   "cell_type": "code",
   "execution_count": 38,
   "metadata": {},
   "outputs": [
    {
     "data": {
      "text/plain": [
       "Land area : 22x75 sq. ft.    604\n",
       "Built-up : 1,100 sq. ft.     533\n",
       "Built-up : 950 sq. ft.       481\n",
       "Land area : 22x80 sq. ft.    370\n",
       "Built-up : 1,200 sq. ft.     367\n",
       "                            ... \n",
       "Built-up : 4,573 sq. ft.       1\n",
       "Land area : 3573 sq. ft.       1\n",
       "Built-up : 1,437 sq. ft.       1\n",
       "Land area : 7587 sq. ft.       1\n",
       "Land area : 1544 sq. ft.       1\n",
       "Name: Size, Length: 5652, dtype: int64"
      ]
     },
     "execution_count": 38,
     "metadata": {},
     "output_type": "execute_result"
    }
   ],
   "source": [
    "# View value counts of Size\n",
    "\n",
    "df['Size'].value_counts()"
   ]
  },
  {
   "cell_type": "code",
   "execution_count": 39,
   "metadata": {},
   "outputs": [],
   "source": [
    "def convert_size(x, index):\n",
    "    try:\n",
    "        return x.split(':')[index].strip()\n",
    "    except AttributeError:\n",
    "        return x"
   ]
  },
  {
   "cell_type": "code",
   "execution_count": 40,
   "metadata": {},
   "outputs": [],
   "source": [
    "df['Size Type'] = df['Size'].apply(lambda x: convert_size(x, 0))\n",
    "df['Size'] = df['Size'].apply(lambda x: convert_size(x, 1))"
   ]
  },
  {
   "cell_type": "code",
   "execution_count": 41,
   "metadata": {},
   "outputs": [
    {
     "data": {
      "text/plain": [
       "Built-up     36250\n",
       "Land area    13160\n",
       "NaN            939\n",
       "Name: Size Type, dtype: int64"
      ]
     },
     "execution_count": 41,
     "metadata": {},
     "output_type": "execute_result"
    }
   ],
   "source": [
    "df['Size Type'].value_counts(dropna=False)"
   ]
  },
  {
   "cell_type": "code",
   "execution_count": 42,
   "metadata": {},
   "outputs": [],
   "source": [
    "for index, row in df.iterrows():\n",
    "    if row['Size Type'] == np.NaN:\n",
    "        if row['Property Type'] in [\"Terrace/Link House\", \n",
    "            \"Semi-detached House\", \"Bungalow\", \"Townhouse\", \n",
    "            \"Flat\", \"Residential Land\"]:\n",
    "            row['Size Type'] == 'Land area'\n",
    "        else:\n",
    "            row['Size Type'] == 'Build-up'"
   ]
  },
  {
   "cell_type": "code",
   "execution_count": 43,
   "metadata": {},
   "outputs": [],
   "source": [
    "def extract_size(x):\n",
    "    try:\n",
    "        \n",
    "        if re.search(r\"sq\\.*\\s*ft\\.*\", x) is None:\n",
    "            return None\n",
    "    \n",
    "        x = x.replace(\",\", \"\")\n",
    "        x = x.replace(\"'\", \"\")\n",
    "        x = x.replace(\"sq. ft.\", \"\")\n",
    "        x = x.replace(\"sf\", \"\")\n",
    "        x = x.strip()\n",
    "        x = x.lower()\n",
    "        \n",
    "        add_mult_match = re.search(r\"(\\d+)\\s*\\+\\s*(\\d+)\\s*(?:x|\\*)\\s*(\\d+)\", x)\n",
    "        if add_mult_match is not None:\n",
    "            return int(add_mult_match.groups()[0]) + (\n",
    "                int(add_mult_match.groups()[1]) * \n",
    "                int(add_mult_match.groups()[2]))\n",
    "        \n",
    "        mult_match = re.search(r\"(\\d+)\\s*(?:x|\\*)\\s*(\\d+)\", x)\n",
    "        if mult_match is not None:\n",
    "            return int(mult_match.groups()[0]) * int(mult_match.groups()[1])\n",
    "        \n",
    "        return int(x)\n",
    "    \n",
    "    except:\n",
    "        return None"
   ]
  },
  {
   "cell_type": "code",
   "execution_count": 44,
   "metadata": {},
   "outputs": [],
   "source": [
    "df['Size'] = df['Size'].apply(lambda x: extract_size(x))"
   ]
  },
  {
   "cell_type": "code",
   "execution_count": 45,
   "metadata": {},
   "outputs": [
    {
     "name": "stdout",
     "output_type": "stream",
     "text": [
      "Average Built-up : 1741.1040262896277\n",
      "Average Land Area : 3610.447248591495\n"
     ]
    }
   ],
   "source": [
    "avg_builtup = df.groupby('Size Type')['Size'].mean()[0]\n",
    "avg_landarea = df.groupby('Size Type')['Size'].mean()[1]\n",
    "\n",
    "print(f'Average Built-up : {avg_builtup}')\n",
    "print(f'Average Land Area : {avg_landarea}')"
   ]
  },
  {
   "cell_type": "code",
   "execution_count": 46,
   "metadata": {},
   "outputs": [],
   "source": [
    "n = df['Size'].isnull()\n",
    "df.loc[n, 'Size'] = np.where(df.loc[n, 'Size Type'].eq('Built-up'), avg_builtup, avg_landarea)"
   ]
  },
  {
   "cell_type": "code",
   "execution_count": 47,
   "metadata": {},
   "outputs": [],
   "source": [
    "b025 = df.groupby('Size Type')['Size'].quantile(q=0.025)[0]\n",
    "b975 = df.groupby('Size Type')['Size'].quantile(q=0.975)[0]\n",
    "l025 = df.groupby('Size Type')['Size'].quantile(q=0.025)[1]\n",
    "l975 = df.groupby('Size Type')['Size'].quantile(q=0.975)[0]"
   ]
  },
  {
   "cell_type": "code",
   "execution_count": 48,
   "metadata": {},
   "outputs": [],
   "source": [
    "b = df[df['Size Type'] == 'Built-up']\n",
    "b = b[(b['Size'] > b025) & (b['Size'] < b975)]\n",
    "l = df[df['Size Type'] == 'Land area']\n",
    "l = l[(l['Size'] > l025) & (l['Size'] < l975)]"
   ]
  },
  {
   "cell_type": "code",
   "execution_count": 49,
   "metadata": {},
   "outputs": [
    {
     "name": "stdout",
     "output_type": "stream",
     "text": [
      "(44223, 9)\n"
     ]
    }
   ],
   "source": [
    "df = pd.concat([b, l])\n",
    "print(df.shape)"
   ]
  },
  {
   "cell_type": "code",
   "execution_count": 50,
   "metadata": {},
   "outputs": [],
   "source": [
    "df.drop(['Size Type'], axis=1, inplace=True)"
   ]
  },
  {
   "cell_type": "markdown",
   "metadata": {},
   "source": [
    "### Furnishing"
   ]
  },
  {
   "cell_type": "code",
   "execution_count": 51,
   "metadata": {},
   "outputs": [
    {
     "data": {
      "text/plain": [
       "Partly Furnished    27050\n",
       "Fully Furnished     12075\n",
       "Unfurnished          4675\n",
       "Unknown               423\n",
       "Name: Furnishing, dtype: int64"
      ]
     },
     "execution_count": 51,
     "metadata": {},
     "output_type": "execute_result"
    }
   ],
   "source": [
    "# View value counts of Furnishing\n",
    "\n",
    "df['Furnishing'].value_counts()"
   ]
  },
  {
   "cell_type": "code",
   "execution_count": 52,
   "metadata": {},
   "outputs": [],
   "source": [
    "# Replace Unknown with Partly Furnished\n",
    "\n",
    "df['Furnishing'].replace('Unknown', 'Partly Furnished', inplace=True)"
   ]
  },
  {
   "cell_type": "code",
   "execution_count": 53,
   "metadata": {},
   "outputs": [
    {
     "data": {
      "text/plain": [
       "Partly Furnished    27473\n",
       "Fully Furnished     12075\n",
       "Unfurnished          4675\n",
       "Name: Furnishing, dtype: int64"
      ]
     },
     "execution_count": 53,
     "metadata": {},
     "output_type": "execute_result"
    }
   ],
   "source": [
    "# View value counts of Furnishing\n",
    "\n",
    "df['Furnishing'].value_counts()"
   ]
  },
  {
   "cell_type": "markdown",
   "metadata": {},
   "source": [
    "### Creating New Variables"
   ]
  },
  {
   "cell_type": "code",
   "execution_count": 54,
   "metadata": {},
   "outputs": [
    {
     "name": "stdout",
     "output_type": "stream",
     "text": [
      "Number of Locations : 62\n",
      "                     Location\n",
      "0          KLCC, Kuala Lumpur\n",
      "1       Dutamas, Kuala Lumpur\n",
      "2   Bukit Jalil, Kuala Lumpur\n",
      "3  Sri Petaling, Kuala Lumpur\n",
      "4    Mont Kiara, Kuala Lumpur\n"
     ]
    }
   ],
   "source": [
    "locations = pd.DataFrame(df['Location'].unique(), columns=['Location'])\n",
    "\n",
    "print(f'Number of Locations : {locations.shape[0]}')\n",
    "print(locations.head())"
   ]
  },
  {
   "cell_type": "code",
   "execution_count": 55,
   "metadata": {},
   "outputs": [],
   "source": [
    "geolocator = Nominatim(user_agent=\"Capstone 2\")"
   ]
  },
  {
   "cell_type": "code",
   "execution_count": 56,
   "metadata": {},
   "outputs": [],
   "source": [
    "def create_variables(x):\n",
    "    try:\n",
    "        lat = geolocator.geocode(x).raw['lat']\n",
    "        lon = geolocator.geocode(x).raw['lon']\n",
    "        api = overpy.Overpass()\n",
    "        \n",
    "        query1 = \"\"\"(node[\"amenity\"=\"place_of_worship\"](around:5000,{lat},{lon});\n",
    "            \n",
    "                );out;\n",
    "                \"\"\".format(lat=lat,lon=lon)    \n",
    "        result1 = api.query(query1)\n",
    "        n_worship = len(result1.nodes)\n",
    "\n",
    "        query2 = \"\"\"(node[\"amenity\"=\"school\"](around:5000,{lat},{lon});\n",
    "\n",
    "                );out;\n",
    "                \"\"\".format(lat=lat,lon=lon)    \n",
    "        result2 = api.query(query2)\n",
    "        n_schools = len(result2.nodes)\n",
    "\n",
    "        query3 = \"\"\"(node[\"amenity\"=\"hospital\"](around:5000,{lat},{lon});\n",
    "\n",
    "                );out;\n",
    "                \"\"\".format(lat=lat,lon=lon)    \n",
    "        result3 = api.query(query3)\n",
    "        n_hospitals = len(result3.nodes)\n",
    "\n",
    "        query4 = \"\"\"(node[\"shop\"=\"mall\"](around:5000,{lat},{lon});\n",
    "\n",
    "                );out;\n",
    "                \"\"\".format(lat=lat,lon=lon)    \n",
    "        result4 = api.query(query4)\n",
    "        n_malls = len(result4.nodes)\n",
    "        \n",
    "        query5 = \"\"\"(node[\"amenity\"=\"restaurant\"](around:5000,{lat},{lon});\n",
    "\n",
    "                );out;\n",
    "                \"\"\".format(lat=lat,lon=lon)    \n",
    "        result5 = api.query(query5)\n",
    "        n_restaurants = len(result5.nodes)\n",
    "        \n",
    "        return [n_worship, n_schools, n_hospitals, n_malls, n_restaurants]\n",
    "    \n",
    "    except:\n",
    "        return [np.NaN, np.NaN, np.NaN, np.NaN, np.NaN]"
   ]
  },
  {
   "cell_type": "code",
   "execution_count": 57,
   "metadata": {},
   "outputs": [],
   "source": [
    "locations['Variables'] = locations['Location'].apply(lambda x: create_variables(x))"
   ]
  },
  {
   "cell_type": "code",
   "execution_count": 58,
   "metadata": {},
   "outputs": [
    {
     "data": {
      "text/html": [
       "<div>\n",
       "<style scoped>\n",
       "    .dataframe tbody tr th:only-of-type {\n",
       "        vertical-align: middle;\n",
       "    }\n",
       "\n",
       "    .dataframe tbody tr th {\n",
       "        vertical-align: top;\n",
       "    }\n",
       "\n",
       "    .dataframe thead th {\n",
       "        text-align: right;\n",
       "    }\n",
       "</style>\n",
       "<table border=\"1\" class=\"dataframe\">\n",
       "  <thead>\n",
       "    <tr style=\"text-align: right;\">\n",
       "      <th></th>\n",
       "      <th>Location</th>\n",
       "      <th>Variables</th>\n",
       "    </tr>\n",
       "  </thead>\n",
       "  <tbody>\n",
       "    <tr>\n",
       "      <th>0</th>\n",
       "      <td>KLCC, Kuala Lumpur</td>\n",
       "      <td>[53, 24, 20, 5, 813]</td>\n",
       "    </tr>\n",
       "    <tr>\n",
       "      <th>1</th>\n",
       "      <td>Dutamas, Kuala Lumpur</td>\n",
       "      <td>[33, 10, 6, 1, 380]</td>\n",
       "    </tr>\n",
       "    <tr>\n",
       "      <th>2</th>\n",
       "      <td>Bukit Jalil, Kuala Lumpur</td>\n",
       "      <td>[19, 6, 0, 0, 196]</td>\n",
       "    </tr>\n",
       "    <tr>\n",
       "      <th>3</th>\n",
       "      <td>Sri Petaling, Kuala Lumpur</td>\n",
       "      <td>[19, 6, 0, 0, 228]</td>\n",
       "    </tr>\n",
       "    <tr>\n",
       "      <th>4</th>\n",
       "      <td>Mont Kiara, Kuala Lumpur</td>\n",
       "      <td>[32, 16, 6, 3, 439]</td>\n",
       "    </tr>\n",
       "  </tbody>\n",
       "</table>\n",
       "</div>"
      ],
      "text/plain": [
       "                     Location             Variables\n",
       "0          KLCC, Kuala Lumpur  [53, 24, 20, 5, 813]\n",
       "1       Dutamas, Kuala Lumpur   [33, 10, 6, 1, 380]\n",
       "2   Bukit Jalil, Kuala Lumpur    [19, 6, 0, 0, 196]\n",
       "3  Sri Petaling, Kuala Lumpur    [19, 6, 0, 0, 228]\n",
       "4    Mont Kiara, Kuala Lumpur   [32, 16, 6, 3, 439]"
      ]
     },
     "execution_count": 58,
     "metadata": {},
     "output_type": "execute_result"
    }
   ],
   "source": [
    "locations.head()"
   ]
  },
  {
   "cell_type": "code",
   "execution_count": 59,
   "metadata": {},
   "outputs": [
    {
     "data": {
      "text/html": [
       "<div>\n",
       "<style scoped>\n",
       "    .dataframe tbody tr th:only-of-type {\n",
       "        vertical-align: middle;\n",
       "    }\n",
       "\n",
       "    .dataframe tbody tr th {\n",
       "        vertical-align: top;\n",
       "    }\n",
       "\n",
       "    .dataframe thead th {\n",
       "        text-align: right;\n",
       "    }\n",
       "</style>\n",
       "<table border=\"1\" class=\"dataframe\">\n",
       "  <thead>\n",
       "    <tr style=\"text-align: right;\">\n",
       "      <th></th>\n",
       "      <th>Location</th>\n",
       "      <th>Variables</th>\n",
       "      <th>Places of Worship</th>\n",
       "      <th>Schools</th>\n",
       "      <th>Hospitals</th>\n",
       "      <th>Malls</th>\n",
       "      <th>Restaurants</th>\n",
       "    </tr>\n",
       "  </thead>\n",
       "  <tbody>\n",
       "    <tr>\n",
       "      <th>0</th>\n",
       "      <td>KLCC, Kuala Lumpur</td>\n",
       "      <td>[53, 24, 20, 5, 813]</td>\n",
       "      <td>53.00</td>\n",
       "      <td>24.00</td>\n",
       "      <td>20.00</td>\n",
       "      <td>5.00</td>\n",
       "      <td>813.00</td>\n",
       "    </tr>\n",
       "    <tr>\n",
       "      <th>1</th>\n",
       "      <td>Dutamas, Kuala Lumpur</td>\n",
       "      <td>[33, 10, 6, 1, 380]</td>\n",
       "      <td>33.00</td>\n",
       "      <td>10.00</td>\n",
       "      <td>6.00</td>\n",
       "      <td>1.00</td>\n",
       "      <td>380.00</td>\n",
       "    </tr>\n",
       "    <tr>\n",
       "      <th>2</th>\n",
       "      <td>Bukit Jalil, Kuala Lumpur</td>\n",
       "      <td>[19, 6, 0, 0, 196]</td>\n",
       "      <td>19.00</td>\n",
       "      <td>6.00</td>\n",
       "      <td>0.00</td>\n",
       "      <td>0.00</td>\n",
       "      <td>196.00</td>\n",
       "    </tr>\n",
       "    <tr>\n",
       "      <th>3</th>\n",
       "      <td>Sri Petaling, Kuala Lumpur</td>\n",
       "      <td>[19, 6, 0, 0, 228]</td>\n",
       "      <td>19.00</td>\n",
       "      <td>6.00</td>\n",
       "      <td>0.00</td>\n",
       "      <td>0.00</td>\n",
       "      <td>228.00</td>\n",
       "    </tr>\n",
       "    <tr>\n",
       "      <th>4</th>\n",
       "      <td>Mont Kiara, Kuala Lumpur</td>\n",
       "      <td>[32, 16, 6, 3, 439]</td>\n",
       "      <td>32.00</td>\n",
       "      <td>16.00</td>\n",
       "      <td>6.00</td>\n",
       "      <td>3.00</td>\n",
       "      <td>439.00</td>\n",
       "    </tr>\n",
       "  </tbody>\n",
       "</table>\n",
       "</div>"
      ],
      "text/plain": [
       "                     Location             Variables  Places of Worship  \\\n",
       "0          KLCC, Kuala Lumpur  [53, 24, 20, 5, 813]              53.00   \n",
       "1       Dutamas, Kuala Lumpur   [33, 10, 6, 1, 380]              33.00   \n",
       "2   Bukit Jalil, Kuala Lumpur    [19, 6, 0, 0, 196]              19.00   \n",
       "3  Sri Petaling, Kuala Lumpur    [19, 6, 0, 0, 228]              19.00   \n",
       "4    Mont Kiara, Kuala Lumpur   [32, 16, 6, 3, 439]              32.00   \n",
       "\n",
       "   Schools  Hospitals  Malls  Restaurants  \n",
       "0    24.00      20.00   5.00       813.00  \n",
       "1    10.00       6.00   1.00       380.00  \n",
       "2     6.00       0.00   0.00       196.00  \n",
       "3     6.00       0.00   0.00       228.00  \n",
       "4    16.00       6.00   3.00       439.00  "
      ]
     },
     "execution_count": 59,
     "metadata": {},
     "output_type": "execute_result"
    }
   ],
   "source": [
    "locations['Places of Worship'] = locations['Variables'].apply(lambda x: x[0])\n",
    "locations['Schools'] = locations['Variables'].apply(lambda x: x[1])\n",
    "locations['Hospitals'] = locations['Variables'].apply(lambda x: x[2])\n",
    "locations['Malls'] = locations['Variables'].apply(lambda x: x[3])\n",
    "locations['Restaurants'] = locations['Variables'].apply(lambda x: x[4])\n",
    "locations.head()"
   ]
  },
  {
   "cell_type": "code",
   "execution_count": 60,
   "metadata": {},
   "outputs": [],
   "source": [
    "locations.drop(['Variables'], axis=1, inplace=True)"
   ]
  },
  {
   "cell_type": "code",
   "execution_count": 61,
   "metadata": {},
   "outputs": [
    {
     "data": {
      "text/plain": [
       "Location             0\n",
       "Places of Worship    2\n",
       "Schools              2\n",
       "Hospitals            2\n",
       "Malls                2\n",
       "Restaurants          2\n",
       "dtype: int64"
      ]
     },
     "execution_count": 61,
     "metadata": {},
     "output_type": "execute_result"
    }
   ],
   "source": [
    "locations.isnull().sum()"
   ]
  },
  {
   "cell_type": "code",
   "execution_count": 62,
   "metadata": {},
   "outputs": [
    {
     "name": "stderr",
     "output_type": "stream",
     "text": [
      "C:\\Users\\Gan Kai Feng\\AppData\\Local\\Temp\\ipykernel_11772\\3407720108.py:1: FutureWarning: The default value of numeric_only in DataFrame.median is deprecated. In a future version, it will default to False. In addition, specifying 'numeric_only=None' is deprecated. Select only valid columns or specify the value of numeric_only to silence this warning.\n",
      "  locations.fillna(locations.median(), inplace=True)\n"
     ]
    }
   ],
   "source": [
    "locations.fillna(locations.median(), inplace=True)"
   ]
  },
  {
   "cell_type": "code",
   "execution_count": 63,
   "metadata": {},
   "outputs": [
    {
     "data": {
      "text/plain": [
       "Location             0\n",
       "Places of Worship    0\n",
       "Schools              0\n",
       "Hospitals            0\n",
       "Malls                0\n",
       "Restaurants          0\n",
       "dtype: int64"
      ]
     },
     "execution_count": 63,
     "metadata": {},
     "output_type": "execute_result"
    }
   ],
   "source": [
    "locations.isnull().sum()"
   ]
  },
  {
   "cell_type": "code",
   "execution_count": 64,
   "metadata": {},
   "outputs": [
    {
     "data": {
      "text/html": [
       "<div>\n",
       "<style scoped>\n",
       "    .dataframe tbody tr th:only-of-type {\n",
       "        vertical-align: middle;\n",
       "    }\n",
       "\n",
       "    .dataframe tbody tr th {\n",
       "        vertical-align: top;\n",
       "    }\n",
       "\n",
       "    .dataframe thead th {\n",
       "        text-align: right;\n",
       "    }\n",
       "</style>\n",
       "<table border=\"1\" class=\"dataframe\">\n",
       "  <thead>\n",
       "    <tr style=\"text-align: right;\">\n",
       "      <th></th>\n",
       "      <th>Location</th>\n",
       "      <th>Price</th>\n",
       "      <th>Rooms</th>\n",
       "      <th>Bathrooms</th>\n",
       "      <th>Property Type</th>\n",
       "      <th>Size</th>\n",
       "      <th>Furnishing</th>\n",
       "      <th>Store Rooms</th>\n",
       "      <th>Places of Worship</th>\n",
       "      <th>Schools</th>\n",
       "      <th>Hospitals</th>\n",
       "      <th>Malls</th>\n",
       "      <th>Restaurants</th>\n",
       "    </tr>\n",
       "  </thead>\n",
       "  <tbody>\n",
       "    <tr>\n",
       "      <th>0</th>\n",
       "      <td>KLCC, Kuala Lumpur</td>\n",
       "      <td>1250000.00</td>\n",
       "      <td>2</td>\n",
       "      <td>3.00</td>\n",
       "      <td>Serviced Residence</td>\n",
       "      <td>1335.00</td>\n",
       "      <td>Fully Furnished</td>\n",
       "      <td>1</td>\n",
       "      <td>53.00</td>\n",
       "      <td>24.00</td>\n",
       "      <td>20.00</td>\n",
       "      <td>5.00</td>\n",
       "      <td>813.00</td>\n",
       "    </tr>\n",
       "    <tr>\n",
       "      <th>1</th>\n",
       "      <td>KLCC, Kuala Lumpur</td>\n",
       "      <td>2400000.00</td>\n",
       "      <td>2</td>\n",
       "      <td>2.00</td>\n",
       "      <td>Serviced Residence</td>\n",
       "      <td>1006.00</td>\n",
       "      <td>Fully Furnished</td>\n",
       "      <td>0</td>\n",
       "      <td>53.00</td>\n",
       "      <td>24.00</td>\n",
       "      <td>20.00</td>\n",
       "      <td>5.00</td>\n",
       "      <td>813.00</td>\n",
       "    </tr>\n",
       "    <tr>\n",
       "      <th>2</th>\n",
       "      <td>KLCC, Kuala Lumpur</td>\n",
       "      <td>3600000.00</td>\n",
       "      <td>4</td>\n",
       "      <td>4.00</td>\n",
       "      <td>Serviced Residence</td>\n",
       "      <td>3897.00</td>\n",
       "      <td>Partly Furnished</td>\n",
       "      <td>0</td>\n",
       "      <td>53.00</td>\n",
       "      <td>24.00</td>\n",
       "      <td>20.00</td>\n",
       "      <td>5.00</td>\n",
       "      <td>813.00</td>\n",
       "    </tr>\n",
       "    <tr>\n",
       "      <th>3</th>\n",
       "      <td>KLCC, Kuala Lumpur</td>\n",
       "      <td>4280000.00</td>\n",
       "      <td>3</td>\n",
       "      <td>4.00</td>\n",
       "      <td>Serviced Residence</td>\n",
       "      <td>2195.00</td>\n",
       "      <td>Fully Furnished</td>\n",
       "      <td>1</td>\n",
       "      <td>53.00</td>\n",
       "      <td>24.00</td>\n",
       "      <td>20.00</td>\n",
       "      <td>5.00</td>\n",
       "      <td>813.00</td>\n",
       "    </tr>\n",
       "    <tr>\n",
       "      <th>4</th>\n",
       "      <td>KLCC, Kuala Lumpur</td>\n",
       "      <td>2300000.00</td>\n",
       "      <td>1</td>\n",
       "      <td>2.00</td>\n",
       "      <td>Serviced Residence</td>\n",
       "      <td>1023.00</td>\n",
       "      <td>Partly Furnished</td>\n",
       "      <td>0</td>\n",
       "      <td>53.00</td>\n",
       "      <td>24.00</td>\n",
       "      <td>20.00</td>\n",
       "      <td>5.00</td>\n",
       "      <td>813.00</td>\n",
       "    </tr>\n",
       "  </tbody>\n",
       "</table>\n",
       "</div>"
      ],
      "text/plain": [
       "             Location      Price  Rooms  Bathrooms       Property Type  \\\n",
       "0  KLCC, Kuala Lumpur 1250000.00      2       3.00  Serviced Residence   \n",
       "1  KLCC, Kuala Lumpur 2400000.00      2       2.00  Serviced Residence   \n",
       "2  KLCC, Kuala Lumpur 3600000.00      4       4.00  Serviced Residence   \n",
       "3  KLCC, Kuala Lumpur 4280000.00      3       4.00  Serviced Residence   \n",
       "4  KLCC, Kuala Lumpur 2300000.00      1       2.00  Serviced Residence   \n",
       "\n",
       "     Size        Furnishing  Store Rooms  Places of Worship  Schools  \\\n",
       "0 1335.00   Fully Furnished            1              53.00    24.00   \n",
       "1 1006.00   Fully Furnished            0              53.00    24.00   \n",
       "2 3897.00  Partly Furnished            0              53.00    24.00   \n",
       "3 2195.00   Fully Furnished            1              53.00    24.00   \n",
       "4 1023.00  Partly Furnished            0              53.00    24.00   \n",
       "\n",
       "   Hospitals  Malls  Restaurants  \n",
       "0      20.00   5.00       813.00  \n",
       "1      20.00   5.00       813.00  \n",
       "2      20.00   5.00       813.00  \n",
       "3      20.00   5.00       813.00  \n",
       "4      20.00   5.00       813.00  "
      ]
     },
     "execution_count": 64,
     "metadata": {},
     "output_type": "execute_result"
    }
   ],
   "source": [
    "df = pd.merge(df, locations, on='Location', how='inner')\n",
    "df.head()"
   ]
  },
  {
   "cell_type": "code",
   "execution_count": 65,
   "metadata": {},
   "outputs": [
    {
     "name": "stdout",
     "output_type": "stream",
     "text": [
      "<class 'pandas.core.frame.DataFrame'>\n",
      "Int64Index: 44223 entries, 0 to 44222\n",
      "Data columns (total 13 columns):\n",
      " #   Column             Non-Null Count  Dtype  \n",
      "---  ------             --------------  -----  \n",
      " 0   Location           44223 non-null  object \n",
      " 1   Price              44223 non-null  float64\n",
      " 2   Rooms              44223 non-null  int32  \n",
      " 3   Bathrooms          44223 non-null  float64\n",
      " 4   Property Type      44223 non-null  object \n",
      " 5   Size               44223 non-null  float64\n",
      " 6   Furnishing         44223 non-null  object \n",
      " 7   Store Rooms        44223 non-null  int32  \n",
      " 8   Places of Worship  44223 non-null  float64\n",
      " 9   Schools            44223 non-null  float64\n",
      " 10  Hospitals          44223 non-null  float64\n",
      " 11  Malls              44223 non-null  float64\n",
      " 12  Restaurants        44223 non-null  float64\n",
      "dtypes: float64(8), int32(2), object(3)\n",
      "memory usage: 4.4+ MB\n"
     ]
    }
   ],
   "source": [
    "df.info()"
   ]
  },
  {
   "cell_type": "code",
   "execution_count": 66,
   "metadata": {},
   "outputs": [
    {
     "name": "stderr",
     "output_type": "stream",
     "text": [
      "C:\\Users\\Gan Kai Feng\\AppData\\Local\\Temp\\ipykernel_11772\\2144498534.py:3: FutureWarning: The default value of regex will change from True to False in a future version.\n",
      "  df[\"Location\"] = df[\"Location\"].str.replace(r\", Kuala Lumpur$\", \"\")\n"
     ]
    }
   ],
   "source": [
    "# Remove the name Kuala Lumpur from values in df\n",
    "\n",
    "df[\"Location\"] = df[\"Location\"].str.replace(r\", Kuala Lumpur$\", \"\")"
   ]
  },
  {
   "cell_type": "code",
   "execution_count": 67,
   "metadata": {},
   "outputs": [
    {
     "name": "stderr",
     "output_type": "stream",
     "text": [
      "C:\\Users\\Gan Kai Feng\\AppData\\Local\\Temp\\ipykernel_11772\\1420928579.py:3: FutureWarning: The default value of regex will change from True to False in a future version.\n",
      "  locations[\"Location\"] = locations[\"Location\"].str.replace(r\", Kuala Lumpur$\", \"\")\n"
     ]
    }
   ],
   "source": [
    "# Remove the name Kuala Lumpur from values in locations\n",
    "\n",
    "locations[\"Location\"] = locations[\"Location\"].str.replace(r\", Kuala Lumpur$\", \"\")"
   ]
  },
  {
   "cell_type": "code",
   "execution_count": 68,
   "metadata": {},
   "outputs": [],
   "source": [
    "# Export df and locations to csv files\n",
    "\n",
    "df.to_csv('Cleaned_Data.csv', sep=',', index=False)\n",
    "locations.to_csv('Locations.csv', sep=',', index=False)"
   ]
  }
 ],
 "metadata": {
  "kernelspec": {
   "display_name": "Python 3 (ipykernel)",
   "language": "python",
   "name": "python3"
  },
  "language_info": {
   "codemirror_mode": {
    "name": "ipython",
    "version": 3
   },
   "file_extension": ".py",
   "mimetype": "text/x-python",
   "name": "python",
   "nbconvert_exporter": "python",
   "pygments_lexer": "ipython3",
   "version": "3.8.16"
  }
 },
 "nbformat": 4,
 "nbformat_minor": 4
}
