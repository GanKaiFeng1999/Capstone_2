{
 "cells": [
  {
   "cell_type": "markdown",
   "metadata": {},
   "source": [
    "## Load the Dataset"
   ]
  },
  {
   "cell_type": "code",
   "execution_count": 1,
   "metadata": {},
   "outputs": [],
   "source": [
    "# Import libraries\n",
    "\n",
    "import numpy as np\n",
    "import pandas as pd\n",
    "import matplotlib.pyplot as plt\n",
    "import seaborn as sns\n",
    "import joblib\n",
    "from sklearn.preprocessing import MinMaxScaler\n",
    "from sklearn.preprocessing import LabelEncoder\n",
    "from sklearn.utils import shuffle\n",
    "from sklearn.model_selection import train_test_split\n",
    "from sklearn.model_selection import GridSearchCV\n",
    "from sklearn import metrics\n",
    "from sklearn import model_selection\n",
    "from sklearn.metrics import r2_score\n",
    "from xgboost import XGBRegressor\n",
    "from sklearn.ensemble import RandomForestRegressor\n",
    "from sklearn.tree import DecisionTreeRegressor\n",
    "\n",
    "pd.set_option('display.float_format', lambda x: '%.4f' % x)"
   ]
  },
  {
   "cell_type": "code",
   "execution_count": 2,
   "metadata": {},
   "outputs": [
    {
     "data": {
      "text/html": [
       "<div>\n",
       "<style scoped>\n",
       "    .dataframe tbody tr th:only-of-type {\n",
       "        vertical-align: middle;\n",
       "    }\n",
       "\n",
       "    .dataframe tbody tr th {\n",
       "        vertical-align: top;\n",
       "    }\n",
       "\n",
       "    .dataframe thead th {\n",
       "        text-align: right;\n",
       "    }\n",
       "</style>\n",
       "<table border=\"1\" class=\"dataframe\">\n",
       "  <thead>\n",
       "    <tr style=\"text-align: right;\">\n",
       "      <th></th>\n",
       "      <th>Location</th>\n",
       "      <th>Price</th>\n",
       "      <th>Rooms</th>\n",
       "      <th>Bathrooms</th>\n",
       "      <th>Property Type</th>\n",
       "      <th>Size</th>\n",
       "      <th>Furnishing</th>\n",
       "      <th>Store Rooms</th>\n",
       "      <th>Places of Worship</th>\n",
       "      <th>Schools</th>\n",
       "      <th>Hospitals</th>\n",
       "      <th>Malls</th>\n",
       "      <th>Restaurants</th>\n",
       "    </tr>\n",
       "  </thead>\n",
       "  <tbody>\n",
       "    <tr>\n",
       "      <th>0</th>\n",
       "      <td>KLCC</td>\n",
       "      <td>1250000.0000</td>\n",
       "      <td>2</td>\n",
       "      <td>3.0000</td>\n",
       "      <td>Serviced Residence</td>\n",
       "      <td>1335.0000</td>\n",
       "      <td>Fully Furnished</td>\n",
       "      <td>1</td>\n",
       "      <td>53.0000</td>\n",
       "      <td>24.0000</td>\n",
       "      <td>20.0000</td>\n",
       "      <td>5.0000</td>\n",
       "      <td>818.0000</td>\n",
       "    </tr>\n",
       "    <tr>\n",
       "      <th>1</th>\n",
       "      <td>KLCC</td>\n",
       "      <td>2400000.0000</td>\n",
       "      <td>2</td>\n",
       "      <td>2.0000</td>\n",
       "      <td>Serviced Residence</td>\n",
       "      <td>1006.0000</td>\n",
       "      <td>Fully Furnished</td>\n",
       "      <td>0</td>\n",
       "      <td>53.0000</td>\n",
       "      <td>24.0000</td>\n",
       "      <td>20.0000</td>\n",
       "      <td>5.0000</td>\n",
       "      <td>818.0000</td>\n",
       "    </tr>\n",
       "    <tr>\n",
       "      <th>2</th>\n",
       "      <td>KLCC</td>\n",
       "      <td>3600000.0000</td>\n",
       "      <td>4</td>\n",
       "      <td>4.0000</td>\n",
       "      <td>Serviced Residence</td>\n",
       "      <td>3897.0000</td>\n",
       "      <td>Partly Furnished</td>\n",
       "      <td>0</td>\n",
       "      <td>53.0000</td>\n",
       "      <td>24.0000</td>\n",
       "      <td>20.0000</td>\n",
       "      <td>5.0000</td>\n",
       "      <td>818.0000</td>\n",
       "    </tr>\n",
       "    <tr>\n",
       "      <th>3</th>\n",
       "      <td>KLCC</td>\n",
       "      <td>4280000.0000</td>\n",
       "      <td>3</td>\n",
       "      <td>4.0000</td>\n",
       "      <td>Serviced Residence</td>\n",
       "      <td>2195.0000</td>\n",
       "      <td>Fully Furnished</td>\n",
       "      <td>1</td>\n",
       "      <td>53.0000</td>\n",
       "      <td>24.0000</td>\n",
       "      <td>20.0000</td>\n",
       "      <td>5.0000</td>\n",
       "      <td>818.0000</td>\n",
       "    </tr>\n",
       "    <tr>\n",
       "      <th>4</th>\n",
       "      <td>KLCC</td>\n",
       "      <td>2300000.0000</td>\n",
       "      <td>1</td>\n",
       "      <td>2.0000</td>\n",
       "      <td>Serviced Residence</td>\n",
       "      <td>1023.0000</td>\n",
       "      <td>Partly Furnished</td>\n",
       "      <td>0</td>\n",
       "      <td>53.0000</td>\n",
       "      <td>24.0000</td>\n",
       "      <td>20.0000</td>\n",
       "      <td>5.0000</td>\n",
       "      <td>818.0000</td>\n",
       "    </tr>\n",
       "  </tbody>\n",
       "</table>\n",
       "</div>"
      ],
      "text/plain": [
       "  Location        Price  Rooms  Bathrooms       Property Type      Size  \\\n",
       "0     KLCC 1250000.0000      2     3.0000  Serviced Residence 1335.0000   \n",
       "1     KLCC 2400000.0000      2     2.0000  Serviced Residence 1006.0000   \n",
       "2     KLCC 3600000.0000      4     4.0000  Serviced Residence 3897.0000   \n",
       "3     KLCC 4280000.0000      3     4.0000  Serviced Residence 2195.0000   \n",
       "4     KLCC 2300000.0000      1     2.0000  Serviced Residence 1023.0000   \n",
       "\n",
       "         Furnishing  Store Rooms  Places of Worship  Schools  Hospitals  \\\n",
       "0   Fully Furnished            1            53.0000  24.0000    20.0000   \n",
       "1   Fully Furnished            0            53.0000  24.0000    20.0000   \n",
       "2  Partly Furnished            0            53.0000  24.0000    20.0000   \n",
       "3   Fully Furnished            1            53.0000  24.0000    20.0000   \n",
       "4  Partly Furnished            0            53.0000  24.0000    20.0000   \n",
       "\n",
       "   Malls  Restaurants  \n",
       "0 5.0000     818.0000  \n",
       "1 5.0000     818.0000  \n",
       "2 5.0000     818.0000  \n",
       "3 5.0000     818.0000  \n",
       "4 5.0000     818.0000  "
      ]
     },
     "execution_count": 2,
     "metadata": {},
     "output_type": "execute_result"
    }
   ],
   "source": [
    "# Load the dataset\n",
    "\n",
    "df = pd.read_csv('Cleaned_Data.csv')\n",
    "df.head()"
   ]
  },
  {
   "cell_type": "markdown",
   "metadata": {},
   "source": [
    "## Data Pre-processing"
   ]
  },
  {
   "cell_type": "markdown",
   "metadata": {},
   "source": [
    "### Encoding"
   ]
  },
  {
   "cell_type": "code",
   "execution_count": 3,
   "metadata": {},
   "outputs": [
    {
     "name": "stdout",
     "output_type": "stream",
     "text": [
      "Index(['Location', 'Property Type', 'Furnishing'], dtype='object')\n"
     ]
    }
   ],
   "source": [
    "# Select categorical columns\n",
    "\n",
    "categorical = df.select_dtypes(exclude=[np.number]).columns\n",
    "print (categorical)"
   ]
  },
  {
   "cell_type": "code",
   "execution_count": 4,
   "metadata": {},
   "outputs": [],
   "source": [
    "# Encode Location\n",
    "\n",
    "le_location = LabelEncoder()\n",
    "df['Location'] = le_location.fit_transform(df['Location'])"
   ]
  },
  {
   "cell_type": "code",
   "execution_count": 5,
   "metadata": {},
   "outputs": [],
   "source": [
    "# Encode Property Type\n",
    "\n",
    "le_proptype = LabelEncoder()\n",
    "df['Property Type'] = le_proptype.fit_transform(df['Property Type'])"
   ]
  },
  {
   "cell_type": "code",
   "execution_count": 6,
   "metadata": {},
   "outputs": [],
   "source": [
    "# Encode Furnishing\n",
    "\n",
    "le_furnishing = LabelEncoder()\n",
    "df['Furnishing'] = le_furnishing.fit_transform(df['Furnishing'])"
   ]
  },
  {
   "cell_type": "markdown",
   "metadata": {},
   "source": [
    "### Split and Scale the Dataset"
   ]
  },
  {
   "cell_type": "code",
   "execution_count": 7,
   "metadata": {},
   "outputs": [],
   "source": [
    "# Shuffle rows\n",
    "\n",
    "df = shuffle(df, random_state=42)"
   ]
  },
  {
   "cell_type": "code",
   "execution_count": 8,
   "metadata": {},
   "outputs": [],
   "source": [
    "# Split dataset into features and outcome\n",
    "\n",
    "DV = 'Price'\n",
    "x = df.drop(DV, axis=1)\n",
    "y = df[DV]"
   ]
  },
  {
   "cell_type": "code",
   "execution_count": 9,
   "metadata": {},
   "outputs": [],
   "source": [
    "# Split into train and test\n",
    "\n",
    "x_train, x_test, y_train, y_test = train_test_split (x, y, test_size=0.20,\n",
    "random_state=42)"
   ]
  },
  {
   "cell_type": "code",
   "execution_count": 40,
   "metadata": {},
   "outputs": [],
   "source": [
    "# Select all numerical columns except for Price\n",
    "\n",
    "numerical = ['Rooms', 'Bathrooms', 'Size', 'Store Rooms', 'Places of Worship',\\\n",
    "             'Schools', 'Hospitals', 'Malls', 'Restaurants']"
   ]
  },
  {
   "cell_type": "code",
   "execution_count": 44,
   "metadata": {},
   "outputs": [
    {
     "data": {
      "text/html": [
       "<div>\n",
       "<style scoped>\n",
       "    .dataframe tbody tr th:only-of-type {\n",
       "        vertical-align: middle;\n",
       "    }\n",
       "\n",
       "    .dataframe tbody tr th {\n",
       "        vertical-align: top;\n",
       "    }\n",
       "\n",
       "    .dataframe thead th {\n",
       "        text-align: right;\n",
       "    }\n",
       "</style>\n",
       "<table border=\"1\" class=\"dataframe\">\n",
       "  <thead>\n",
       "    <tr style=\"text-align: right;\">\n",
       "      <th></th>\n",
       "      <th>Location</th>\n",
       "      <th>Rooms</th>\n",
       "      <th>Bathrooms</th>\n",
       "      <th>Property Type</th>\n",
       "      <th>Size</th>\n",
       "      <th>Furnishing</th>\n",
       "      <th>Store Rooms</th>\n",
       "      <th>Places of Worship</th>\n",
       "      <th>Schools</th>\n",
       "      <th>Hospitals</th>\n",
       "      <th>Malls</th>\n",
       "      <th>Restaurants</th>\n",
       "    </tr>\n",
       "  </thead>\n",
       "  <tbody>\n",
       "    <tr>\n",
       "      <th>36520</th>\n",
       "      <td>0</td>\n",
       "      <td>0.3333</td>\n",
       "      <td>0.3333</td>\n",
       "      <td>2</td>\n",
       "      <td>0.3248</td>\n",
       "      <td>0</td>\n",
       "      <td>0.5000</td>\n",
       "      <td>0.7692</td>\n",
       "      <td>0.9286</td>\n",
       "      <td>0.8261</td>\n",
       "      <td>1.0000</td>\n",
       "      <td>0.9078</td>\n",
       "    </tr>\n",
       "    <tr>\n",
       "      <th>1863</th>\n",
       "      <td>32</td>\n",
       "      <td>0.1667</td>\n",
       "      <td>0.1667</td>\n",
       "      <td>6</td>\n",
       "      <td>0.2287</td>\n",
       "      <td>0</td>\n",
       "      <td>0.5000</td>\n",
       "      <td>0.9744</td>\n",
       "      <td>0.7857</td>\n",
       "      <td>0.8696</td>\n",
       "      <td>0.6250</td>\n",
       "      <td>0.8133</td>\n",
       "    </tr>\n",
       "    <tr>\n",
       "      <th>18650</th>\n",
       "      <td>25</td>\n",
       "      <td>0.3333</td>\n",
       "      <td>0.3333</td>\n",
       "      <td>7</td>\n",
       "      <td>0.2638</td>\n",
       "      <td>2</td>\n",
       "      <td>0.5000</td>\n",
       "      <td>0.5641</td>\n",
       "      <td>0.7500</td>\n",
       "      <td>0.0435</td>\n",
       "      <td>0.6250</td>\n",
       "      <td>0.5456</td>\n",
       "    </tr>\n",
       "    <tr>\n",
       "      <th>43497</th>\n",
       "      <td>60</td>\n",
       "      <td>0.3333</td>\n",
       "      <td>0.1667</td>\n",
       "      <td>6</td>\n",
       "      <td>0.1358</td>\n",
       "      <td>0</td>\n",
       "      <td>0.0000</td>\n",
       "      <td>1.0000</td>\n",
       "      <td>0.6429</td>\n",
       "      <td>0.9130</td>\n",
       "      <td>0.6250</td>\n",
       "      <td>0.8078</td>\n",
       "    </tr>\n",
       "    <tr>\n",
       "      <th>34544</th>\n",
       "      <td>14</td>\n",
       "      <td>0.6667</td>\n",
       "      <td>0.6667</td>\n",
       "      <td>5</td>\n",
       "      <td>0.6737</td>\n",
       "      <td>1</td>\n",
       "      <td>1.0000</td>\n",
       "      <td>0.2564</td>\n",
       "      <td>0.2857</td>\n",
       "      <td>0.0435</td>\n",
       "      <td>0.1250</td>\n",
       "      <td>0.0622</td>\n",
       "    </tr>\n",
       "  </tbody>\n",
       "</table>\n",
       "</div>"
      ],
      "text/plain": [
       "       Location  Rooms  Bathrooms  Property Type   Size  Furnishing  \\\n",
       "36520         0 0.3333     0.3333              2 0.3248           0   \n",
       "1863         32 0.1667     0.1667              6 0.2287           0   \n",
       "18650        25 0.3333     0.3333              7 0.2638           2   \n",
       "43497        60 0.3333     0.1667              6 0.1358           0   \n",
       "34544        14 0.6667     0.6667              5 0.6737           1   \n",
       "\n",
       "       Store Rooms  Places of Worship  Schools  Hospitals  Malls  Restaurants  \n",
       "36520       0.5000             0.7692   0.9286     0.8261 1.0000       0.9078  \n",
       "1863        0.5000             0.9744   0.7857     0.8696 0.6250       0.8133  \n",
       "18650       0.5000             0.5641   0.7500     0.0435 0.6250       0.5456  \n",
       "43497       0.0000             1.0000   0.6429     0.9130 0.6250       0.8078  \n",
       "34544       1.0000             0.2564   0.2857     0.0435 0.1250       0.0622  "
      ]
     },
     "execution_count": 44,
     "metadata": {},
     "output_type": "execute_result"
    }
   ],
   "source": [
    "# Scale numerical columns in x_train\n",
    "\n",
    "scaler = MinMaxScaler()\n",
    "x_train_scaled = x_train.copy()\n",
    "x_train_scaled[numerical] = scaler.fit_transform(x_train_scaled[numerical])\n",
    "x_train_scaled.head()"
   ]
  },
  {
   "cell_type": "code",
   "execution_count": 45,
   "metadata": {},
   "outputs": [
    {
     "data": {
      "text/html": [
       "<div>\n",
       "<style scoped>\n",
       "    .dataframe tbody tr th:only-of-type {\n",
       "        vertical-align: middle;\n",
       "    }\n",
       "\n",
       "    .dataframe tbody tr th {\n",
       "        vertical-align: top;\n",
       "    }\n",
       "\n",
       "    .dataframe thead th {\n",
       "        text-align: right;\n",
       "    }\n",
       "</style>\n",
       "<table border=\"1\" class=\"dataframe\">\n",
       "  <thead>\n",
       "    <tr style=\"text-align: right;\">\n",
       "      <th></th>\n",
       "      <th>Location</th>\n",
       "      <th>Rooms</th>\n",
       "      <th>Bathrooms</th>\n",
       "      <th>Property Type</th>\n",
       "      <th>Size</th>\n",
       "      <th>Furnishing</th>\n",
       "      <th>Store Rooms</th>\n",
       "      <th>Places of Worship</th>\n",
       "      <th>Schools</th>\n",
       "      <th>Hospitals</th>\n",
       "      <th>Malls</th>\n",
       "      <th>Restaurants</th>\n",
       "    </tr>\n",
       "  </thead>\n",
       "  <tbody>\n",
       "    <tr>\n",
       "      <th>41944</th>\n",
       "      <td>51</td>\n",
       "      <td>0.5000</td>\n",
       "      <td>0.6667</td>\n",
       "      <td>2</td>\n",
       "      <td>0.7418</td>\n",
       "      <td>0</td>\n",
       "      <td>0.5000</td>\n",
       "      <td>0.5641</td>\n",
       "      <td>0.5357</td>\n",
       "      <td>0.2609</td>\n",
       "      <td>0.3750</td>\n",
       "      <td>0.4422</td>\n",
       "    </tr>\n",
       "    <tr>\n",
       "      <th>22395</th>\n",
       "      <td>49</td>\n",
       "      <td>0.3333</td>\n",
       "      <td>0.1667</td>\n",
       "      <td>6</td>\n",
       "      <td>0.1204</td>\n",
       "      <td>2</td>\n",
       "      <td>0.0000</td>\n",
       "      <td>0.8205</td>\n",
       "      <td>0.4643</td>\n",
       "      <td>1.0000</td>\n",
       "      <td>0.2500</td>\n",
       "      <td>0.4367</td>\n",
       "    </tr>\n",
       "    <tr>\n",
       "      <th>14960</th>\n",
       "      <td>20</td>\n",
       "      <td>0.5000</td>\n",
       "      <td>0.6667</td>\n",
       "      <td>5</td>\n",
       "      <td>0.8796</td>\n",
       "      <td>2</td>\n",
       "      <td>0.5000</td>\n",
       "      <td>0.1795</td>\n",
       "      <td>0.1429</td>\n",
       "      <td>0.1739</td>\n",
       "      <td>0.1250</td>\n",
       "      <td>0.1633</td>\n",
       "    </tr>\n",
       "    <tr>\n",
       "      <th>41012</th>\n",
       "      <td>12</td>\n",
       "      <td>0.3333</td>\n",
       "      <td>0.3333</td>\n",
       "      <td>2</td>\n",
       "      <td>0.4303</td>\n",
       "      <td>1</td>\n",
       "      <td>0.5000</td>\n",
       "      <td>0.5641</td>\n",
       "      <td>0.6607</td>\n",
       "      <td>0.1739</td>\n",
       "      <td>0.5000</td>\n",
       "      <td>0.4733</td>\n",
       "    </tr>\n",
       "    <tr>\n",
       "      <th>36204</th>\n",
       "      <td>0</td>\n",
       "      <td>0.3333</td>\n",
       "      <td>0.3333</td>\n",
       "      <td>6</td>\n",
       "      <td>0.1642</td>\n",
       "      <td>0</td>\n",
       "      <td>0.0000</td>\n",
       "      <td>0.7692</td>\n",
       "      <td>0.9286</td>\n",
       "      <td>0.8261</td>\n",
       "      <td>1.0000</td>\n",
       "      <td>0.9078</td>\n",
       "    </tr>\n",
       "  </tbody>\n",
       "</table>\n",
       "</div>"
      ],
      "text/plain": [
       "       Location  Rooms  Bathrooms  Property Type   Size  Furnishing  \\\n",
       "41944        51 0.5000     0.6667              2 0.7418           0   \n",
       "22395        49 0.3333     0.1667              6 0.1204           2   \n",
       "14960        20 0.5000     0.6667              5 0.8796           2   \n",
       "41012        12 0.3333     0.3333              2 0.4303           1   \n",
       "36204         0 0.3333     0.3333              6 0.1642           0   \n",
       "\n",
       "       Store Rooms  Places of Worship  Schools  Hospitals  Malls  Restaurants  \n",
       "41944       0.5000             0.5641   0.5357     0.2609 0.3750       0.4422  \n",
       "22395       0.0000             0.8205   0.4643     1.0000 0.2500       0.4367  \n",
       "14960       0.5000             0.1795   0.1429     0.1739 0.1250       0.1633  \n",
       "41012       0.5000             0.5641   0.6607     0.1739 0.5000       0.4733  \n",
       "36204       0.0000             0.7692   0.9286     0.8261 1.0000       0.9078  "
      ]
     },
     "execution_count": 45,
     "metadata": {},
     "output_type": "execute_result"
    }
   ],
   "source": [
    "# Scale numerical columns in x_test\n",
    "\n",
    "x_test_scaled = x_test.copy()\n",
    "x_test_scaled[numerical] = scaler.transform(x_test_scaled[numerical])\n",
    "x_test_scaled.head()"
   ]
  },
  {
   "cell_type": "markdown",
   "metadata": {},
   "source": [
    "## Modelling"
   ]
  },
  {
   "cell_type": "code",
   "execution_count": 10,
   "metadata": {},
   "outputs": [],
   "source": [
    "# Define function to calculate adjusted r-squared\n",
    "\n",
    "def calculate_adjusted_r_squared(y_test, pred):\n",
    "    r_squared = r2_score(y_test, pred)\n",
    "    n = len(y_test)\n",
    "    adjusted_r_squared = 1 - (1 - r_squared) * (n - 1) / (n - 12 - 1)\n",
    "    return adjusted_r_squared"
   ]
  },
  {
   "cell_type": "markdown",
   "metadata": {},
   "source": [
    "### XGBoost"
   ]
  },
  {
   "cell_type": "markdown",
   "metadata": {},
   "source": [
    "# Find metrics for default XGBoost model\n",
    "\n",
    "from sklearn import metrics\n",
    "\n",
    "default_XGB = XGBRegressor(random_state=42)\n",
    "default_XGB.fit(x_train, y_train)\n",
    "pred = default_XGB.predict(x_test)\n",
    "default_XGB_metrics = pd.DataFrame ({'Metric':\n",
    "['MAE', 'MSE', 'RMSE', 'R-Squared', 'Adjusted R-Squared'],\n",
    "'Default XGBoost':\n",
    "[metrics.mean_absolute_error(y_test, pred),\n",
    "metrics.mean_squared_error (y_test, pred),\n",
    "np.sqrt (metrics.mean_squared_error (y_test, pred)),\n",
    "metrics.explained_variance_score (y_test, pred),\n",
    "calculate_adjusted_r_squared(y_test, pred)]})\n",
    "default_XGB_metrics"
   ]
  },
  {
   "cell_type": "code",
   "execution_count": 12,
   "metadata": {},
   "outputs": [
    {
     "name": "stdout",
     "output_type": "stream",
     "text": [
      "Fitting 3 folds for each of 81 candidates, totalling 243 fits\n",
      "Best score: 0.9022117064318039\n",
      "Best parameters set:\n",
      "\tcolsample_bytree: 0.7\n",
      "\tlearning_rate: 0.03\n",
      "\tmax_depth: 20\n",
      "\tmin_child_weight: 5\n",
      "\tn_estimators: 300\n",
      "\tnthread: 4\n",
      "\tobjective: reg:squarederror\n",
      "\tsubsample: 0.7\n"
     ]
    }
   ],
   "source": [
    "# Grid Search for XGBoost \n",
    "\n",
    "XGB = XGBRegressor(random_state=42)\n",
    "\n",
    "param_grid = {'nthread':[4], \n",
    "              'objective':['reg:squarederror'],\n",
    "              'learning_rate': [0.03, 0.05, 0.07], \n",
    "              'max_depth': [10, 15, 20],\n",
    "              'min_child_weight': [1, 3, 5],\n",
    "              'subsample': [0.7],\n",
    "              'colsample_bytree': [0.7],\n",
    "              'n_estimators': [100, 300, 500]}\n",
    "\n",
    "XGB_model = model_selection.GridSearchCV(\n",
    "estimator=XGB,\n",
    "param_grid=param_grid,\n",
    "verbose=True,\n",
    "n_jobs=-1,\n",
    "cv=3\n",
    ")\n",
    "\n",
    "XGB_model.fit(x_train, y_train)\n",
    "print(f\"Best score: {XGB_model.best_score_}\")\n",
    "print(\"Best parameters set:\")\n",
    "best_parameters = XGB_model.best_estimator_.get_params()\n",
    "for param_name in sorted(param_grid.keys()):\n",
    "    print(f\"\\t{param_name}: {best_parameters[param_name]}\")"
   ]
  },
  {
   "cell_type": "code",
   "execution_count": 11,
   "metadata": {},
   "outputs": [
    {
     "data": {
      "text/html": [
       "<style>#sk-container-id-1 {color: black;background-color: white;}#sk-container-id-1 pre{padding: 0;}#sk-container-id-1 div.sk-toggleable {background-color: white;}#sk-container-id-1 label.sk-toggleable__label {cursor: pointer;display: block;width: 100%;margin-bottom: 0;padding: 0.3em;box-sizing: border-box;text-align: center;}#sk-container-id-1 label.sk-toggleable__label-arrow:before {content: \"▸\";float: left;margin-right: 0.25em;color: #696969;}#sk-container-id-1 label.sk-toggleable__label-arrow:hover:before {color: black;}#sk-container-id-1 div.sk-estimator:hover label.sk-toggleable__label-arrow:before {color: black;}#sk-container-id-1 div.sk-toggleable__content {max-height: 0;max-width: 0;overflow: hidden;text-align: left;background-color: #f0f8ff;}#sk-container-id-1 div.sk-toggleable__content pre {margin: 0.2em;color: black;border-radius: 0.25em;background-color: #f0f8ff;}#sk-container-id-1 input.sk-toggleable__control:checked~div.sk-toggleable__content {max-height: 200px;max-width: 100%;overflow: auto;}#sk-container-id-1 input.sk-toggleable__control:checked~label.sk-toggleable__label-arrow:before {content: \"▾\";}#sk-container-id-1 div.sk-estimator input.sk-toggleable__control:checked~label.sk-toggleable__label {background-color: #d4ebff;}#sk-container-id-1 div.sk-label input.sk-toggleable__control:checked~label.sk-toggleable__label {background-color: #d4ebff;}#sk-container-id-1 input.sk-hidden--visually {border: 0;clip: rect(1px 1px 1px 1px);clip: rect(1px, 1px, 1px, 1px);height: 1px;margin: -1px;overflow: hidden;padding: 0;position: absolute;width: 1px;}#sk-container-id-1 div.sk-estimator {font-family: monospace;background-color: #f0f8ff;border: 1px dotted black;border-radius: 0.25em;box-sizing: border-box;margin-bottom: 0.5em;}#sk-container-id-1 div.sk-estimator:hover {background-color: #d4ebff;}#sk-container-id-1 div.sk-parallel-item::after {content: \"\";width: 100%;border-bottom: 1px solid gray;flex-grow: 1;}#sk-container-id-1 div.sk-label:hover label.sk-toggleable__label {background-color: #d4ebff;}#sk-container-id-1 div.sk-serial::before {content: \"\";position: absolute;border-left: 1px solid gray;box-sizing: border-box;top: 0;bottom: 0;left: 50%;z-index: 0;}#sk-container-id-1 div.sk-serial {display: flex;flex-direction: column;align-items: center;background-color: white;padding-right: 0.2em;padding-left: 0.2em;position: relative;}#sk-container-id-1 div.sk-item {position: relative;z-index: 1;}#sk-container-id-1 div.sk-parallel {display: flex;align-items: stretch;justify-content: center;background-color: white;position: relative;}#sk-container-id-1 div.sk-item::before, #sk-container-id-1 div.sk-parallel-item::before {content: \"\";position: absolute;border-left: 1px solid gray;box-sizing: border-box;top: 0;bottom: 0;left: 50%;z-index: -1;}#sk-container-id-1 div.sk-parallel-item {display: flex;flex-direction: column;z-index: 1;position: relative;background-color: white;}#sk-container-id-1 div.sk-parallel-item:first-child::after {align-self: flex-end;width: 50%;}#sk-container-id-1 div.sk-parallel-item:last-child::after {align-self: flex-start;width: 50%;}#sk-container-id-1 div.sk-parallel-item:only-child::after {width: 0;}#sk-container-id-1 div.sk-dashed-wrapped {border: 1px dashed gray;margin: 0 0.4em 0.5em 0.4em;box-sizing: border-box;padding-bottom: 0.4em;background-color: white;}#sk-container-id-1 div.sk-label label {font-family: monospace;font-weight: bold;display: inline-block;line-height: 1.2em;}#sk-container-id-1 div.sk-label-container {text-align: center;}#sk-container-id-1 div.sk-container {/* jupyter's `normalize.less` sets `[hidden] { display: none; }` but bootstrap.min.css set `[hidden] { display: none !important; }` so we also need the `!important` here to be able to override the default hidden behavior on the sphinx rendered scikit-learn.org. See: https://github.com/scikit-learn/scikit-learn/issues/21755 */display: inline-block !important;position: relative;}#sk-container-id-1 div.sk-text-repr-fallback {display: none;}</style><div id=\"sk-container-id-1\" class=\"sk-top-container\"><div class=\"sk-text-repr-fallback\"><pre>XGBRegressor(base_score=None, booster=None, callbacks=None,\n",
       "             colsample_bylevel=None, colsample_bynode=None,\n",
       "             colsample_bytree=0.7, early_stopping_rounds=None,\n",
       "             enable_categorical=False, eval_metric=None, feature_types=None,\n",
       "             gamma=None, gpu_id=None, grow_policy=None, importance_type=None,\n",
       "             interaction_constraints=None, learning_rate=0.03, max_bin=None,\n",
       "             max_cat_threshold=None, max_cat_to_onehot=None,\n",
       "             max_delta_step=None, max_depth=20, max_leaves=None,\n",
       "             min_child_weight=3, missing=nan, monotone_constraints=None,\n",
       "             n_estimators=300, n_jobs=None, nthread=4, num_parallel_tree=None,\n",
       "             predictor=None, ...)</pre><b>In a Jupyter environment, please rerun this cell to show the HTML representation or trust the notebook. <br />On GitHub, the HTML representation is unable to render, please try loading this page with nbviewer.org.</b></div><div class=\"sk-container\" hidden><div class=\"sk-item\"><div class=\"sk-estimator sk-toggleable\"><input class=\"sk-toggleable__control sk-hidden--visually\" id=\"sk-estimator-id-1\" type=\"checkbox\" checked><label for=\"sk-estimator-id-1\" class=\"sk-toggleable__label sk-toggleable__label-arrow\">XGBRegressor</label><div class=\"sk-toggleable__content\"><pre>XGBRegressor(base_score=None, booster=None, callbacks=None,\n",
       "             colsample_bylevel=None, colsample_bynode=None,\n",
       "             colsample_bytree=0.7, early_stopping_rounds=None,\n",
       "             enable_categorical=False, eval_metric=None, feature_types=None,\n",
       "             gamma=None, gpu_id=None, grow_policy=None, importance_type=None,\n",
       "             interaction_constraints=None, learning_rate=0.03, max_bin=None,\n",
       "             max_cat_threshold=None, max_cat_to_onehot=None,\n",
       "             max_delta_step=None, max_depth=20, max_leaves=None,\n",
       "             min_child_weight=3, missing=nan, monotone_constraints=None,\n",
       "             n_estimators=300, n_jobs=None, nthread=4, num_parallel_tree=None,\n",
       "             predictor=None, ...)</pre></div></div></div></div></div>"
      ],
      "text/plain": [
       "XGBRegressor(base_score=None, booster=None, callbacks=None,\n",
       "             colsample_bylevel=None, colsample_bynode=None,\n",
       "             colsample_bytree=0.7, early_stopping_rounds=None,\n",
       "             enable_categorical=False, eval_metric=None, feature_types=None,\n",
       "             gamma=None, gpu_id=None, grow_policy=None, importance_type=None,\n",
       "             interaction_constraints=None, learning_rate=0.03, max_bin=None,\n",
       "             max_cat_threshold=None, max_cat_to_onehot=None,\n",
       "             max_delta_step=None, max_depth=20, max_leaves=None,\n",
       "             min_child_weight=3, missing=nan, monotone_constraints=None,\n",
       "             n_estimators=300, n_jobs=None, nthread=4, num_parallel_tree=None,\n",
       "             predictor=None, ...)"
      ]
     },
     "execution_count": 11,
     "metadata": {},
     "output_type": "execute_result"
    }
   ],
   "source": [
    "# Build XGBoost model\n",
    "\n",
    "XGB_model = XGBRegressor(\n",
    "    random_state=42,\n",
    "    colsample_bytree=0.7,\n",
    "    learning_rate=0.03,\n",
    "    max_depth=20,\n",
    "    min_child_weight=3,\n",
    "    n_estimators=300,\n",
    "    nthread=4,\n",
    "    objective='reg:squarederror',\n",
    "    subsample=0.7\n",
    ")\n",
    "\n",
    "XGB_model.fit(x_train, y_train)"
   ]
  },
  {
   "cell_type": "code",
   "execution_count": 12,
   "metadata": {},
   "outputs": [
    {
     "name": "stdout",
     "output_type": "stream",
     "text": [
      "[3127056.8   487548.12 2440627.8  1541732.   1108894.1   595956.4\n",
      "  470577.7   555266.3  2477899.    673547.25]\n"
     ]
    }
   ],
   "source": [
    "# Generate predictions\n",
    "\n",
    "pred = XGB_model.predict(x_test)\n",
    "print(pred[:10])"
   ]
  },
  {
   "cell_type": "code",
   "execution_count": 13,
   "metadata": {},
   "outputs": [
    {
     "data": {
      "text/html": [
       "<div>\n",
       "<style scoped>\n",
       "    .dataframe tbody tr th:only-of-type {\n",
       "        vertical-align: middle;\n",
       "    }\n",
       "\n",
       "    .dataframe tbody tr th {\n",
       "        vertical-align: top;\n",
       "    }\n",
       "\n",
       "    .dataframe thead th {\n",
       "        text-align: right;\n",
       "    }\n",
       "</style>\n",
       "<table border=\"1\" class=\"dataframe\">\n",
       "  <thead>\n",
       "    <tr style=\"text-align: right;\">\n",
       "      <th></th>\n",
       "      <th>Metric</th>\n",
       "      <th>XGBoost</th>\n",
       "    </tr>\n",
       "  </thead>\n",
       "  <tbody>\n",
       "    <tr>\n",
       "      <th>0</th>\n",
       "      <td>MAE</td>\n",
       "      <td>149424.2175</td>\n",
       "    </tr>\n",
       "    <tr>\n",
       "      <th>1</th>\n",
       "      <td>MSE</td>\n",
       "      <td>97550719843.5257</td>\n",
       "    </tr>\n",
       "    <tr>\n",
       "      <th>2</th>\n",
       "      <td>RMSE</td>\n",
       "      <td>312331.1061</td>\n",
       "    </tr>\n",
       "    <tr>\n",
       "      <th>3</th>\n",
       "      <td>R-Squared</td>\n",
       "      <td>0.9098</td>\n",
       "    </tr>\n",
       "    <tr>\n",
       "      <th>4</th>\n",
       "      <td>Adjusted R-Squared</td>\n",
       "      <td>0.9097</td>\n",
       "    </tr>\n",
       "  </tbody>\n",
       "</table>\n",
       "</div>"
      ],
      "text/plain": [
       "               Metric          XGBoost\n",
       "0                 MAE      149424.2175\n",
       "1                 MSE 97550719843.5257\n",
       "2                RMSE      312331.1061\n",
       "3           R-Squared           0.9098\n",
       "4  Adjusted R-Squared           0.9097"
      ]
     },
     "execution_count": 13,
     "metadata": {},
     "output_type": "execute_result"
    }
   ],
   "source": [
    "# Find metrics\n",
    "from sklearn import metrics\n",
    "\n",
    "XGB_metrics = pd.DataFrame ({'Metric':\n",
    "['MAE', 'MSE', 'RMSE', 'R-Squared', 'Adjusted R-Squared'],\n",
    "'XGBoost':\n",
    "[metrics.mean_absolute_error(y_test, pred),\n",
    "metrics.mean_squared_error (y_test, pred),\n",
    "np.sqrt (metrics.mean_squared_error (y_test, pred)),\n",
    "metrics.explained_variance_score (y_test, pred),\n",
    "calculate_adjusted_r_squared(y_test, pred)]})\n",
    "XGB_metrics"
   ]
  },
  {
   "cell_type": "markdown",
   "metadata": {},
   "source": [
    "### Random Forest"
   ]
  },
  {
   "cell_type": "markdown",
   "metadata": {},
   "source": [
    "# Find metrics for default RF model\n",
    "\n",
    "from sklearn import metrics\n",
    "\n",
    "default_RF = RandomForestRegressor(random_state=42)\n",
    "default_RF.fit(x_train, y_train)\n",
    "pred = default_RF.predict(x_test)\n",
    "default_RF_metrics = pd.DataFrame ({'Metric':\n",
    "['MAE', 'MSE', 'RMSE', 'R-Squared', 'Adjusted R-Squared'],\n",
    "'Default RF':\n",
    "[metrics.mean_absolute_error(y_test, pred),\n",
    "metrics.mean_squared_error (y_test, pred),\n",
    "np.sqrt (metrics.mean_squared_error (y_test, pred)),\n",
    "metrics.explained_variance_score (y_test, pred),\n",
    "calculate_adjusted_r_squared(y_test, pred)]})\n",
    "default_RF_metrics"
   ]
  },
  {
   "cell_type": "code",
   "execution_count": 28,
   "metadata": {},
   "outputs": [
    {
     "name": "stdout",
     "output_type": "stream",
     "text": [
      "Fitting 3 folds for each of 72 candidates, totalling 216 fits\n",
      "Best score: 0.8942403812066204\n",
      "Best parameters set:\n",
      "\tmax_depth: 50\n",
      "\tmax_features: 10\n",
      "\tmin_samples_leaf: 1\n",
      "\tmin_samples_split: 5\n",
      "\tn_estimators: 1000\n"
     ]
    }
   ],
   "source": [
    "# Grid Search for Random Forest\n",
    "\n",
    "RF = RandomForestRegressor(random_state=42)\n",
    "\n",
    "param_grid = {\n",
    "\"n_estimators\": [200, 500, 1000],\n",
    "'max_features': [4, 7, 10],\n",
    "\"max_depth\": [50, 100],\n",
    "'min_samples_leaf': [1, 3],\n",
    "'min_samples_split': [5, 10]\n",
    "}\n",
    "\n",
    "RF_model = model_selection.GridSearchCV(\n",
    "estimator=RF,\n",
    "param_grid=param_grid,\n",
    "verbose=10,\n",
    "n_jobs=-1,\n",
    "cv=3\n",
    ")\n",
    "\n",
    "RF_model.fit(x_train, y_train)\n",
    "print(f\"Best score: {RF_model.best_score_}\")\n",
    "print(\"Best parameters set:\")\n",
    "best_parameters = RF_model.best_estimator_.get_params()\n",
    "for param_name in sorted(param_grid.keys()):\n",
    "    print(f\"\\t{param_name}: {best_parameters[param_name]}\")"
   ]
  },
  {
   "cell_type": "code",
   "execution_count": 14,
   "metadata": {},
   "outputs": [
    {
     "data": {
      "text/html": [
       "<style>#sk-container-id-2 {color: black;background-color: white;}#sk-container-id-2 pre{padding: 0;}#sk-container-id-2 div.sk-toggleable {background-color: white;}#sk-container-id-2 label.sk-toggleable__label {cursor: pointer;display: block;width: 100%;margin-bottom: 0;padding: 0.3em;box-sizing: border-box;text-align: center;}#sk-container-id-2 label.sk-toggleable__label-arrow:before {content: \"▸\";float: left;margin-right: 0.25em;color: #696969;}#sk-container-id-2 label.sk-toggleable__label-arrow:hover:before {color: black;}#sk-container-id-2 div.sk-estimator:hover label.sk-toggleable__label-arrow:before {color: black;}#sk-container-id-2 div.sk-toggleable__content {max-height: 0;max-width: 0;overflow: hidden;text-align: left;background-color: #f0f8ff;}#sk-container-id-2 div.sk-toggleable__content pre {margin: 0.2em;color: black;border-radius: 0.25em;background-color: #f0f8ff;}#sk-container-id-2 input.sk-toggleable__control:checked~div.sk-toggleable__content {max-height: 200px;max-width: 100%;overflow: auto;}#sk-container-id-2 input.sk-toggleable__control:checked~label.sk-toggleable__label-arrow:before {content: \"▾\";}#sk-container-id-2 div.sk-estimator input.sk-toggleable__control:checked~label.sk-toggleable__label {background-color: #d4ebff;}#sk-container-id-2 div.sk-label input.sk-toggleable__control:checked~label.sk-toggleable__label {background-color: #d4ebff;}#sk-container-id-2 input.sk-hidden--visually {border: 0;clip: rect(1px 1px 1px 1px);clip: rect(1px, 1px, 1px, 1px);height: 1px;margin: -1px;overflow: hidden;padding: 0;position: absolute;width: 1px;}#sk-container-id-2 div.sk-estimator {font-family: monospace;background-color: #f0f8ff;border: 1px dotted black;border-radius: 0.25em;box-sizing: border-box;margin-bottom: 0.5em;}#sk-container-id-2 div.sk-estimator:hover {background-color: #d4ebff;}#sk-container-id-2 div.sk-parallel-item::after {content: \"\";width: 100%;border-bottom: 1px solid gray;flex-grow: 1;}#sk-container-id-2 div.sk-label:hover label.sk-toggleable__label {background-color: #d4ebff;}#sk-container-id-2 div.sk-serial::before {content: \"\";position: absolute;border-left: 1px solid gray;box-sizing: border-box;top: 0;bottom: 0;left: 50%;z-index: 0;}#sk-container-id-2 div.sk-serial {display: flex;flex-direction: column;align-items: center;background-color: white;padding-right: 0.2em;padding-left: 0.2em;position: relative;}#sk-container-id-2 div.sk-item {position: relative;z-index: 1;}#sk-container-id-2 div.sk-parallel {display: flex;align-items: stretch;justify-content: center;background-color: white;position: relative;}#sk-container-id-2 div.sk-item::before, #sk-container-id-2 div.sk-parallel-item::before {content: \"\";position: absolute;border-left: 1px solid gray;box-sizing: border-box;top: 0;bottom: 0;left: 50%;z-index: -1;}#sk-container-id-2 div.sk-parallel-item {display: flex;flex-direction: column;z-index: 1;position: relative;background-color: white;}#sk-container-id-2 div.sk-parallel-item:first-child::after {align-self: flex-end;width: 50%;}#sk-container-id-2 div.sk-parallel-item:last-child::after {align-self: flex-start;width: 50%;}#sk-container-id-2 div.sk-parallel-item:only-child::after {width: 0;}#sk-container-id-2 div.sk-dashed-wrapped {border: 1px dashed gray;margin: 0 0.4em 0.5em 0.4em;box-sizing: border-box;padding-bottom: 0.4em;background-color: white;}#sk-container-id-2 div.sk-label label {font-family: monospace;font-weight: bold;display: inline-block;line-height: 1.2em;}#sk-container-id-2 div.sk-label-container {text-align: center;}#sk-container-id-2 div.sk-container {/* jupyter's `normalize.less` sets `[hidden] { display: none; }` but bootstrap.min.css set `[hidden] { display: none !important; }` so we also need the `!important` here to be able to override the default hidden behavior on the sphinx rendered scikit-learn.org. See: https://github.com/scikit-learn/scikit-learn/issues/21755 */display: inline-block !important;position: relative;}#sk-container-id-2 div.sk-text-repr-fallback {display: none;}</style><div id=\"sk-container-id-2\" class=\"sk-top-container\"><div class=\"sk-text-repr-fallback\"><pre>RandomForestRegressor(max_depth=50, max_features=10, min_samples_split=5,\n",
       "                      n_estimators=1000, random_state=42)</pre><b>In a Jupyter environment, please rerun this cell to show the HTML representation or trust the notebook. <br />On GitHub, the HTML representation is unable to render, please try loading this page with nbviewer.org.</b></div><div class=\"sk-container\" hidden><div class=\"sk-item\"><div class=\"sk-estimator sk-toggleable\"><input class=\"sk-toggleable__control sk-hidden--visually\" id=\"sk-estimator-id-2\" type=\"checkbox\" checked><label for=\"sk-estimator-id-2\" class=\"sk-toggleable__label sk-toggleable__label-arrow\">RandomForestRegressor</label><div class=\"sk-toggleable__content\"><pre>RandomForestRegressor(max_depth=50, max_features=10, min_samples_split=5,\n",
       "                      n_estimators=1000, random_state=42)</pre></div></div></div></div></div>"
      ],
      "text/plain": [
       "RandomForestRegressor(max_depth=50, max_features=10, min_samples_split=5,\n",
       "                      n_estimators=1000, random_state=42)"
      ]
     },
     "execution_count": 14,
     "metadata": {},
     "output_type": "execute_result"
    }
   ],
   "source": [
    "# Build Random Forest model\n",
    "\n",
    "RF_model = RandomForestRegressor(\n",
    "    random_state=42,\n",
    "    max_depth=50,\n",
    "    max_features=10,\n",
    "    min_samples_leaf=1,\n",
    "    min_samples_split=5,\n",
    "    n_estimators=1000\n",
    ")\n",
    "RF_model.fit(x_train,y_train)"
   ]
  },
  {
   "cell_type": "code",
   "execution_count": 15,
   "metadata": {},
   "outputs": [
    {
     "name": "stdout",
     "output_type": "stream",
     "text": [
      "[3165489.58763168  492430.16109142 2695433.90745876 1586437.40650794\n",
      " 1113056.56612579  621444.75349928  473654.38751804  566820.63954379\n",
      " 2484410.16583836  654860.04601991]\n"
     ]
    }
   ],
   "source": [
    "# Generate predictions\n",
    "\n",
    "pred = RF_model.predict(x_test)\n",
    "print(pred[:10])"
   ]
  },
  {
   "cell_type": "code",
   "execution_count": 16,
   "metadata": {},
   "outputs": [
    {
     "data": {
      "text/html": [
       "<div>\n",
       "<style scoped>\n",
       "    .dataframe tbody tr th:only-of-type {\n",
       "        vertical-align: middle;\n",
       "    }\n",
       "\n",
       "    .dataframe tbody tr th {\n",
       "        vertical-align: top;\n",
       "    }\n",
       "\n",
       "    .dataframe thead th {\n",
       "        text-align: right;\n",
       "    }\n",
       "</style>\n",
       "<table border=\"1\" class=\"dataframe\">\n",
       "  <thead>\n",
       "    <tr style=\"text-align: right;\">\n",
       "      <th></th>\n",
       "      <th>Metric</th>\n",
       "      <th>Random Forest</th>\n",
       "    </tr>\n",
       "  </thead>\n",
       "  <tbody>\n",
       "    <tr>\n",
       "      <th>0</th>\n",
       "      <td>MAE</td>\n",
       "      <td>154187.0439</td>\n",
       "    </tr>\n",
       "    <tr>\n",
       "      <th>1</th>\n",
       "      <td>MSE</td>\n",
       "      <td>105672943224.3387</td>\n",
       "    </tr>\n",
       "    <tr>\n",
       "      <th>2</th>\n",
       "      <td>RMSE</td>\n",
       "      <td>325073.7504</td>\n",
       "    </tr>\n",
       "    <tr>\n",
       "      <th>3</th>\n",
       "      <td>R-Squared</td>\n",
       "      <td>0.9023</td>\n",
       "    </tr>\n",
       "    <tr>\n",
       "      <th>4</th>\n",
       "      <td>Adjusted R-Squared</td>\n",
       "      <td>0.9022</td>\n",
       "    </tr>\n",
       "  </tbody>\n",
       "</table>\n",
       "</div>"
      ],
      "text/plain": [
       "               Metric     Random Forest\n",
       "0                 MAE       154187.0439\n",
       "1                 MSE 105672943224.3387\n",
       "2                RMSE       325073.7504\n",
       "3           R-Squared            0.9023\n",
       "4  Adjusted R-Squared            0.9022"
      ]
     },
     "execution_count": 16,
     "metadata": {},
     "output_type": "execute_result"
    }
   ],
   "source": [
    "# Find metrics\n",
    "from sklearn import metrics\n",
    "\n",
    "RF_metrics = pd.DataFrame ({'Metric':\n",
    "['MAE', 'MSE', 'RMSE', 'R-Squared', 'Adjusted R-Squared'],\n",
    "'Random Forest':\n",
    "[metrics.mean_absolute_error(y_test, pred),\n",
    "metrics.mean_squared_error (y_test, pred),\n",
    "np.sqrt (metrics.mean_squared_error (y_test, pred)),\n",
    "metrics.explained_variance_score (y_test, pred),\n",
    "calculate_adjusted_r_squared(y_test, pred)]})\n",
    "RF_metrics"
   ]
  },
  {
   "cell_type": "markdown",
   "metadata": {},
   "source": [
    "### Decision Tree"
   ]
  },
  {
   "cell_type": "code",
   "execution_count": 18,
   "metadata": {},
   "outputs": [
    {
     "name": "stdout",
     "output_type": "stream",
     "text": [
      "Fitting 3 folds for each of 80 candidates, totalling 240 fits\n",
      "Best score: 0.8240447828348008\n",
      "Best parameters set:\n",
      "\tcriterion: squared_error\n",
      "\tmax_depth: 10\n",
      "\tmax_features: auto\n",
      "\tsplitter: best\n"
     ]
    },
    {
     "name": "stderr",
     "output_type": "stream",
     "text": [
      "C:\\Users\\Gan Kai Feng\\anaconda3\\lib\\site-packages\\sklearn\\tree\\_classes.py:277: FutureWarning: `max_features='auto'` has been deprecated in 1.1 and will be removed in 1.3. To keep the past behaviour, explicitly set `max_features=1.0'`.\n",
      "  warnings.warn(\n"
     ]
    }
   ],
   "source": [
    "# GridSearch for Decision Tree\n",
    "\n",
    "DT = DecisionTreeRegressor()\n",
    "\n",
    "param_grid = {\n",
    "\"max_depth\": [2, 4, 6, 8, 10],\n",
    "\"splitter\": [\"best\", \"random\"],\n",
    "\"criterion\": [\"squared_error\", \"absolute_error\"],\n",
    "\"max_features\": [\"auto\", \"sqrt\", \"log2\", None]\n",
    "}\n",
    "\n",
    "DT_model = model_selection.GridSearchCV(\n",
    "estimator=DT,\n",
    "param_grid=param_grid,\n",
    "verbose=10,\n",
    "n_jobs=-1,\n",
    "cv=3\n",
    ")\n",
    "\n",
    "DT_model.fit(x_train, y_train)\n",
    "print(f\"Best score: {DT_model.best_score_}\")\n",
    "print(\"Best parameters set:\")\n",
    "best_parameters = DT_model.best_estimator_.get_params()\n",
    "for param_name in sorted(param_grid.keys()):\n",
    "    print(f\"\\t{param_name}: {best_parameters[param_name]}\")"
   ]
  },
  {
   "cell_type": "code",
   "execution_count": 22,
   "metadata": {},
   "outputs": [
    {
     "name": "stderr",
     "output_type": "stream",
     "text": [
      "C:\\Users\\Gan Kai Feng\\anaconda3\\lib\\site-packages\\sklearn\\tree\\_classes.py:277: FutureWarning: `max_features='auto'` has been deprecated in 1.1 and will be removed in 1.3. To keep the past behaviour, explicitly set `max_features=1.0'`.\n",
      "  warnings.warn(\n"
     ]
    },
    {
     "data": {
      "text/html": [
       "<style>#sk-container-id-3 {color: black;background-color: white;}#sk-container-id-3 pre{padding: 0;}#sk-container-id-3 div.sk-toggleable {background-color: white;}#sk-container-id-3 label.sk-toggleable__label {cursor: pointer;display: block;width: 100%;margin-bottom: 0;padding: 0.3em;box-sizing: border-box;text-align: center;}#sk-container-id-3 label.sk-toggleable__label-arrow:before {content: \"▸\";float: left;margin-right: 0.25em;color: #696969;}#sk-container-id-3 label.sk-toggleable__label-arrow:hover:before {color: black;}#sk-container-id-3 div.sk-estimator:hover label.sk-toggleable__label-arrow:before {color: black;}#sk-container-id-3 div.sk-toggleable__content {max-height: 0;max-width: 0;overflow: hidden;text-align: left;background-color: #f0f8ff;}#sk-container-id-3 div.sk-toggleable__content pre {margin: 0.2em;color: black;border-radius: 0.25em;background-color: #f0f8ff;}#sk-container-id-3 input.sk-toggleable__control:checked~div.sk-toggleable__content {max-height: 200px;max-width: 100%;overflow: auto;}#sk-container-id-3 input.sk-toggleable__control:checked~label.sk-toggleable__label-arrow:before {content: \"▾\";}#sk-container-id-3 div.sk-estimator input.sk-toggleable__control:checked~label.sk-toggleable__label {background-color: #d4ebff;}#sk-container-id-3 div.sk-label input.sk-toggleable__control:checked~label.sk-toggleable__label {background-color: #d4ebff;}#sk-container-id-3 input.sk-hidden--visually {border: 0;clip: rect(1px 1px 1px 1px);clip: rect(1px, 1px, 1px, 1px);height: 1px;margin: -1px;overflow: hidden;padding: 0;position: absolute;width: 1px;}#sk-container-id-3 div.sk-estimator {font-family: monospace;background-color: #f0f8ff;border: 1px dotted black;border-radius: 0.25em;box-sizing: border-box;margin-bottom: 0.5em;}#sk-container-id-3 div.sk-estimator:hover {background-color: #d4ebff;}#sk-container-id-3 div.sk-parallel-item::after {content: \"\";width: 100%;border-bottom: 1px solid gray;flex-grow: 1;}#sk-container-id-3 div.sk-label:hover label.sk-toggleable__label {background-color: #d4ebff;}#sk-container-id-3 div.sk-serial::before {content: \"\";position: absolute;border-left: 1px solid gray;box-sizing: border-box;top: 0;bottom: 0;left: 50%;z-index: 0;}#sk-container-id-3 div.sk-serial {display: flex;flex-direction: column;align-items: center;background-color: white;padding-right: 0.2em;padding-left: 0.2em;position: relative;}#sk-container-id-3 div.sk-item {position: relative;z-index: 1;}#sk-container-id-3 div.sk-parallel {display: flex;align-items: stretch;justify-content: center;background-color: white;position: relative;}#sk-container-id-3 div.sk-item::before, #sk-container-id-3 div.sk-parallel-item::before {content: \"\";position: absolute;border-left: 1px solid gray;box-sizing: border-box;top: 0;bottom: 0;left: 50%;z-index: -1;}#sk-container-id-3 div.sk-parallel-item {display: flex;flex-direction: column;z-index: 1;position: relative;background-color: white;}#sk-container-id-3 div.sk-parallel-item:first-child::after {align-self: flex-end;width: 50%;}#sk-container-id-3 div.sk-parallel-item:last-child::after {align-self: flex-start;width: 50%;}#sk-container-id-3 div.sk-parallel-item:only-child::after {width: 0;}#sk-container-id-3 div.sk-dashed-wrapped {border: 1px dashed gray;margin: 0 0.4em 0.5em 0.4em;box-sizing: border-box;padding-bottom: 0.4em;background-color: white;}#sk-container-id-3 div.sk-label label {font-family: monospace;font-weight: bold;display: inline-block;line-height: 1.2em;}#sk-container-id-3 div.sk-label-container {text-align: center;}#sk-container-id-3 div.sk-container {/* jupyter's `normalize.less` sets `[hidden] { display: none; }` but bootstrap.min.css set `[hidden] { display: none !important; }` so we also need the `!important` here to be able to override the default hidden behavior on the sphinx rendered scikit-learn.org. See: https://github.com/scikit-learn/scikit-learn/issues/21755 */display: inline-block !important;position: relative;}#sk-container-id-3 div.sk-text-repr-fallback {display: none;}</style><div id=\"sk-container-id-3\" class=\"sk-top-container\"><div class=\"sk-text-repr-fallback\"><pre>DecisionTreeRegressor(max_depth=10, max_features=&#x27;auto&#x27;)</pre><b>In a Jupyter environment, please rerun this cell to show the HTML representation or trust the notebook. <br />On GitHub, the HTML representation is unable to render, please try loading this page with nbviewer.org.</b></div><div class=\"sk-container\" hidden><div class=\"sk-item\"><div class=\"sk-estimator sk-toggleable\"><input class=\"sk-toggleable__control sk-hidden--visually\" id=\"sk-estimator-id-3\" type=\"checkbox\" checked><label for=\"sk-estimator-id-3\" class=\"sk-toggleable__label sk-toggleable__label-arrow\">DecisionTreeRegressor</label><div class=\"sk-toggleable__content\"><pre>DecisionTreeRegressor(max_depth=10, max_features=&#x27;auto&#x27;)</pre></div></div></div></div></div>"
      ],
      "text/plain": [
       "DecisionTreeRegressor(max_depth=10, max_features='auto')"
      ]
     },
     "execution_count": 22,
     "metadata": {},
     "output_type": "execute_result"
    }
   ],
   "source": [
    "DT_model = DecisionTreeRegressor(\n",
    "    criterion='squared_error',\n",
    "    max_depth=10,\n",
    "    max_features='auto',\n",
    "    splitter='best',\n",
    ")\n",
    "DT_model.fit(x_train, y_train)"
   ]
  },
  {
   "cell_type": "code",
   "execution_count": 24,
   "metadata": {},
   "outputs": [
    {
     "name": "stdout",
     "output_type": "stream",
     "text": [
      "[3146474.57090909  574733.90745856 3221551.0989011  1731086.03603604\n",
      "  935310.88732394  679302.54936709  692479.29770992  511174.01383485\n",
      " 3624194.47163121  574733.90745856]\n"
     ]
    }
   ],
   "source": [
    "# Generate predictions\n",
    "\n",
    "pred = DT_model.predict(x_test)\n",
    "print(pred[:10])"
   ]
  },
  {
   "cell_type": "code",
   "execution_count": 25,
   "metadata": {},
   "outputs": [
    {
     "data": {
      "text/html": [
       "<div>\n",
       "<style scoped>\n",
       "    .dataframe tbody tr th:only-of-type {\n",
       "        vertical-align: middle;\n",
       "    }\n",
       "\n",
       "    .dataframe tbody tr th {\n",
       "        vertical-align: top;\n",
       "    }\n",
       "\n",
       "    .dataframe thead th {\n",
       "        text-align: right;\n",
       "    }\n",
       "</style>\n",
       "<table border=\"1\" class=\"dataframe\">\n",
       "  <thead>\n",
       "    <tr style=\"text-align: right;\">\n",
       "      <th></th>\n",
       "      <th>Metric</th>\n",
       "      <th>Decision Tree</th>\n",
       "    </tr>\n",
       "  </thead>\n",
       "  <tbody>\n",
       "    <tr>\n",
       "      <th>0</th>\n",
       "      <td>MAE</td>\n",
       "      <td>233739.9501</td>\n",
       "    </tr>\n",
       "    <tr>\n",
       "      <th>1</th>\n",
       "      <td>MSE</td>\n",
       "      <td>185184300267.2620</td>\n",
       "    </tr>\n",
       "    <tr>\n",
       "      <th>2</th>\n",
       "      <td>RMSE</td>\n",
       "      <td>430330.4547</td>\n",
       "    </tr>\n",
       "    <tr>\n",
       "      <th>3</th>\n",
       "      <td>R-Squared</td>\n",
       "      <td>0.8288</td>\n",
       "    </tr>\n",
       "    <tr>\n",
       "      <th>4</th>\n",
       "      <td>Adjusted R-Squared</td>\n",
       "      <td>0.8286</td>\n",
       "    </tr>\n",
       "  </tbody>\n",
       "</table>\n",
       "</div>"
      ],
      "text/plain": [
       "               Metric     Decision Tree\n",
       "0                 MAE       233739.9501\n",
       "1                 MSE 185184300267.2620\n",
       "2                RMSE       430330.4547\n",
       "3           R-Squared            0.8288\n",
       "4  Adjusted R-Squared            0.8286"
      ]
     },
     "execution_count": 25,
     "metadata": {},
     "output_type": "execute_result"
    }
   ],
   "source": [
    "# Find metrics\n",
    "from sklearn import metrics\n",
    "\n",
    "DT_metrics = pd.DataFrame ({'Metric':\n",
    "['MAE', 'MSE', 'RMSE', 'R-Squared', 'Adjusted R-Squared'],\n",
    "'Decision Tree':\n",
    "[metrics.mean_absolute_error(y_test, pred),\n",
    "metrics.mean_squared_error (y_test, pred),\n",
    "np.sqrt (metrics.mean_squared_error (y_test, pred)),\n",
    "metrics.explained_variance_score (y_test, pred),\n",
    "calculate_adjusted_r_squared(y_test, pred)]})\n",
    "DT_metrics"
   ]
  },
  {
   "cell_type": "markdown",
   "metadata": {},
   "source": [
    "## Model Evaluation"
   ]
  },
  {
   "cell_type": "code",
   "execution_count": 33,
   "metadata": {},
   "outputs": [],
   "source": [
    "# Set the color palette to 'rocket_r'\n",
    "rocket_colors = sns.color_palette('rocket_r')\n",
    "\n",
    "# Select the color at index 4\n",
    "col = [rocket_colors[1], rocket_colors[3], rocket_colors[5]]"
   ]
  },
  {
   "cell_type": "code",
   "execution_count": 27,
   "metadata": {},
   "outputs": [
    {
     "data": {
      "text/html": [
       "<div>\n",
       "<style scoped>\n",
       "    .dataframe tbody tr th:only-of-type {\n",
       "        vertical-align: middle;\n",
       "    }\n",
       "\n",
       "    .dataframe tbody tr th {\n",
       "        vertical-align: top;\n",
       "    }\n",
       "\n",
       "    .dataframe thead th {\n",
       "        text-align: right;\n",
       "    }\n",
       "</style>\n",
       "<table border=\"1\" class=\"dataframe\">\n",
       "  <thead>\n",
       "    <tr style=\"text-align: right;\">\n",
       "      <th></th>\n",
       "      <th>XGBoost</th>\n",
       "      <th>Random Forest</th>\n",
       "      <th>Decision Tree</th>\n",
       "    </tr>\n",
       "    <tr>\n",
       "      <th>Metric</th>\n",
       "      <th></th>\n",
       "      <th></th>\n",
       "      <th></th>\n",
       "    </tr>\n",
       "  </thead>\n",
       "  <tbody>\n",
       "    <tr>\n",
       "      <th>MAE</th>\n",
       "      <td>149424.2175</td>\n",
       "      <td>154187.0439</td>\n",
       "      <td>233739.9501</td>\n",
       "    </tr>\n",
       "    <tr>\n",
       "      <th>MSE</th>\n",
       "      <td>97550719843.5257</td>\n",
       "      <td>105672943224.3387</td>\n",
       "      <td>185184300267.2620</td>\n",
       "    </tr>\n",
       "    <tr>\n",
       "      <th>RMSE</th>\n",
       "      <td>312331.1061</td>\n",
       "      <td>325073.7504</td>\n",
       "      <td>430330.4547</td>\n",
       "    </tr>\n",
       "    <tr>\n",
       "      <th>R-Squared</th>\n",
       "      <td>0.9098</td>\n",
       "      <td>0.9023</td>\n",
       "      <td>0.8288</td>\n",
       "    </tr>\n",
       "    <tr>\n",
       "      <th>Adjusted R-Squared</th>\n",
       "      <td>0.9097</td>\n",
       "      <td>0.9022</td>\n",
       "      <td>0.8286</td>\n",
       "    </tr>\n",
       "  </tbody>\n",
       "</table>\n",
       "</div>"
      ],
      "text/plain": [
       "                            XGBoost     Random Forest     Decision Tree\n",
       "Metric                                                                 \n",
       "MAE                     149424.2175       154187.0439       233739.9501\n",
       "MSE                97550719843.5257 105672943224.3387 185184300267.2620\n",
       "RMSE                    312331.1061       325073.7504       430330.4547\n",
       "R-Squared                    0.9098            0.9023            0.8288\n",
       "Adjusted R-Squared           0.9097            0.9022            0.8286"
      ]
     },
     "execution_count": 27,
     "metadata": {},
     "output_type": "execute_result"
    }
   ],
   "source": [
    "# Create dataframe for XGBoost, RF and DT metrics\n",
    "\n",
    "metrics = pd.merge(XGB_metrics, RF_metrics, on='Metric', how='inner')\n",
    "metrics = pd.merge(metrics, DT_metrics, on='Metric', how='inner')\n",
    "metrics.set_index('Metric', inplace=True)\n",
    "metrics = metrics.round(4)\n",
    "metrics"
   ]
  },
  {
   "cell_type": "code",
   "execution_count": 34,
   "metadata": {},
   "outputs": [
    {
     "data": {
      "image/png": "[encoded data removed]",
      "text/plain": [
       "<Figure size 1200x1000 with 5 Axes>"
      ]
     },
     "metadata": {},
     "output_type": "display_data"
    }
   ],
   "source": [
    "# Plotting the five metrics using subplots\n",
    "fig, axes = plt.subplots(3, 2, figsize=(12, 10))\n",
    "\n",
    "# Set the overall title\n",
    "fig.suptitle('Comparison between Models', fontsize=16)\n",
    "\n",
    "# Plot MAE\n",
    "axes[0, 0].bar(metrics.columns, metrics.loc['MAE'], color=col)\n",
    "axes[0, 0].set_title('MAE')\n",
    "axes[0, 0].set_ylabel('Value')\n",
    "for i, v in enumerate(metrics.loc['MAE']):\n",
    "    axes[0, 0].text(i, v, str(v), ha='center', va='bottom')\n",
    "\n",
    "# Plot MSE\n",
    "axes[0, 1].bar(metrics.columns, metrics.loc['MSE'], color=col)\n",
    "axes[0, 1].set_title('MSE')\n",
    "axes[0, 1].set_ylabel('Value')\n",
    "for i, v in enumerate(metrics.loc['MSE']):\n",
    "    axes[0, 1].text(i, v, str(v), ha='center', va='bottom')\n",
    "\n",
    "# Plot RMSE\n",
    "axes[1, 0].bar(metrics.columns, metrics.loc['RMSE'], color=col)\n",
    "axes[1, 0].set_title('RMSE')\n",
    "axes[1, 0].set_ylabel('Value')\n",
    "for i, v in enumerate(metrics.loc['RMSE']):\n",
    "    axes[1, 0].text(i, v, str(v), ha='center', va='bottom')\n",
    "\n",
    "# Plot R-Squared\n",
    "axes[1, 1].bar(metrics.columns, metrics.loc['R-Squared'], color=col)\n",
    "axes[1, 1].set_title('R-Squared')\n",
    "axes[1, 1].set_ylabel('Value')\n",
    "for i, v in enumerate(metrics.loc['R-Squared']):\n",
    "    axes[1, 1].text(i, v, str(v), ha='center', va='bottom')\n",
    "    \n",
    "# Plot Adjusted R-Squared\n",
    "axes[2, 0].bar(metrics.columns, metrics.loc['Adjusted R-Squared'], color=col)\n",
    "axes[2, 0].set_title('Adjusted R-Squared')\n",
    "axes[2, 0].set_ylabel('Value')\n",
    "for i, v in enumerate(metrics.loc['Adjusted R-Squared']):\n",
    "    axes[2, 0].text(i, v, str(v), ha='center', va='bottom')\n",
    "    \n",
    "# Remove empty subplot\n",
    "fig.delaxes(axes[2, 1])\n",
    "\n",
    "# Adjust spacing between subplots\n",
    "plt.tight_layout()\n",
    "\n",
    "# Show the plots\n",
    "plt.show()"
   ]
  },
  {
   "cell_type": "code",
   "execution_count": 35,
   "metadata": {},
   "outputs": [
    {
     "data": {
      "image/png": "[encoded data removed]",
      "text/plain": [
       "<Figure size 1000x600 with 1 Axes>"
      ]
     },
     "metadata": {},
     "output_type": "display_data"
    }
   ],
   "source": [
    "# Get the feature importance scores from the trained XGBoost model\n",
    "feature_importance = XGB_model.feature_importances_\n",
    "\n",
    "# Get the names of the columns from your dataset\n",
    "column_names = ['Location', 'Rooms', 'Bathrooms', 'Property Type',\\\n",
    "                'Size', 'Furnishing', 'Store Rooms', 'Places of Worship',\\\n",
    "                'Schools', 'Hospitals', 'Malls', 'Restaurants']\n",
    "\n",
    "# Create a DataFrame to store the feature importance scores along with the column names\n",
    "feature_importance_df = pd.DataFrame({'Feature': column_names, 'Importance': feature_importance})\n",
    "\n",
    "# Sort the DataFrame in descending order of importance scores\n",
    "feature_importance_df = feature_importance_df.sort_values(by='Importance', ascending=False)\n",
    "\n",
    "# Plot the feature importance\n",
    "plt.figure(figsize=(10, 6))\n",
    "sns.barplot(data=feature_importance_df, x='Importance', y='Feature', palette='rocket_r')\n",
    "for i, v in enumerate(feature_importance_df['Importance']):\n",
    "    plt.text(v, i, str(round(v, 4)), va='center')\n",
    "plt.title('Feature Importance')\n",
    "plt.xlabel('Importance')\n",
    "plt.ylabel('Feature')\n",
    "plt.show()"
   ]
  },
  {
   "cell_type": "code",
   "execution_count": 36,
   "metadata": {},
   "outputs": [
    {
     "data": {
      "text/plain": [
       "['le_furnishing']"
      ]
     },
     "execution_count": 36,
     "metadata": {},
     "output_type": "execute_result"
    }
   ],
   "source": [
    "# Save XGBoost model and Label Encoders\n",
    "\n",
    "joblib.dump(XGB_model, 'model')\n",
    "joblib.dump(le_location, 'le_location')\n",
    "joblib.dump(le_proptype, 'le_proptype')\n",
    "joblib.dump(le_furnishing, 'le_furnishing')"
   ]
  },
  {
   "cell_type": "code",
   "execution_count": null,
   "metadata": {},
   "outputs": [],
   "source": [
    "#data = {\n",
    "    #'model': XGB_model,\n",
    "    #'le_location': le_location,\n",
    "    #'le_proptype': le_proptype,\n",
    "    #'le_furnishing': le_furnishing\n",
    "#}\n",
    "\n",
    "#with open('saved_steps.pkl', 'wb') as file:\n",
    "    #pickle.dump(data, file)"
   ]
  },
  {
   "cell_type": "code",
   "execution_count": null,
   "metadata": {},
   "outputs": [],
   "source": []
  }
 ],
 "metadata": {
  "kernelspec": {
   "display_name": "Python 3 (ipykernel)",
   "language": "python",
   "name": "python3"
  },
  "language_info": {
   "codemirror_mode": {
    "name": "ipython",
    "version": 3
   },
   "file_extension": ".py",
   "mimetype": "text/x-python",
   "name": "python",
   "nbconvert_exporter": "python",
   "pygments_lexer": "ipython3",
   "version": "3.8.16"
  }
 },
 "nbformat": 4,
 "nbformat_minor": 4
}
