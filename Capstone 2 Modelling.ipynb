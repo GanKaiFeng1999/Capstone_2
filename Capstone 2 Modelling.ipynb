{
 "cells": [
  {
   "cell_type": "markdown",
   "metadata": {},
   "source": [
    "## Load the Dataset"
   ]
  },
  {
   "cell_type": "code",
   "execution_count": 29,
   "metadata": {},
   "outputs": [],
   "source": [
    "# Import libraries\n",
    "\n",
    "import numpy as np\n",
    "import pandas as pd\n",
    "import matplotlib.pyplot as plt\n",
    "import seaborn as sns\n",
    "from sklearn.preprocessing import MinMaxScaler\n",
    "import joblib\n",
    "from sklearn.preprocessing import LabelEncoder\n",
    "from sklearn.utils import shuffle\n",
    "from sklearn.model_selection import train_test_split\n",
    "from sklearn.model_selection import GridSearchCV\n",
    "from sklearn import metrics\n",
    "from sklearn import model_selection\n",
    "from xgboost import XGBRegressor\n",
    "from sklearn.ensemble import RandomForestRegressor\n",
    "import pickle\n",
    "import shap\n",
    "\n",
    "pd.set_option('display.float_format', lambda x: '%.4f' % x)"
   ]
  },
  {
   "cell_type": "code",
   "execution_count": 2,
   "metadata": {},
   "outputs": [
    {
     "data": {
      "text/html": [
       "<div>\n",
       "<style scoped>\n",
       "    .dataframe tbody tr th:only-of-type {\n",
       "        vertical-align: middle;\n",
       "    }\n",
       "\n",
       "    .dataframe tbody tr th {\n",
       "        vertical-align: top;\n",
       "    }\n",
       "\n",
       "    .dataframe thead th {\n",
       "        text-align: right;\n",
       "    }\n",
       "</style>\n",
       "<table border=\"1\" class=\"dataframe\">\n",
       "  <thead>\n",
       "    <tr style=\"text-align: right;\">\n",
       "      <th></th>\n",
       "      <th>Location</th>\n",
       "      <th>Price</th>\n",
       "      <th>Rooms</th>\n",
       "      <th>Bathrooms</th>\n",
       "      <th>Property Type</th>\n",
       "      <th>Size</th>\n",
       "      <th>Furnishing</th>\n",
       "      <th>Store Rooms</th>\n",
       "      <th>Places of Worship</th>\n",
       "      <th>Schools</th>\n",
       "      <th>Hospitals</th>\n",
       "      <th>Malls</th>\n",
       "      <th>Restaurants</th>\n",
       "    </tr>\n",
       "  </thead>\n",
       "  <tbody>\n",
       "    <tr>\n",
       "      <th>0</th>\n",
       "      <td>KLCC</td>\n",
       "      <td>1250000.0000</td>\n",
       "      <td>2</td>\n",
       "      <td>3.0000</td>\n",
       "      <td>Serviced Residence</td>\n",
       "      <td>1335.0000</td>\n",
       "      <td>Fully Furnished</td>\n",
       "      <td>1</td>\n",
       "      <td>53.0000</td>\n",
       "      <td>24.0000</td>\n",
       "      <td>20.0000</td>\n",
       "      <td>5.0000</td>\n",
       "      <td>813.0000</td>\n",
       "    </tr>\n",
       "    <tr>\n",
       "      <th>1</th>\n",
       "      <td>KLCC</td>\n",
       "      <td>2400000.0000</td>\n",
       "      <td>2</td>\n",
       "      <td>2.0000</td>\n",
       "      <td>Serviced Residence</td>\n",
       "      <td>1006.0000</td>\n",
       "      <td>Fully Furnished</td>\n",
       "      <td>0</td>\n",
       "      <td>53.0000</td>\n",
       "      <td>24.0000</td>\n",
       "      <td>20.0000</td>\n",
       "      <td>5.0000</td>\n",
       "      <td>813.0000</td>\n",
       "    </tr>\n",
       "    <tr>\n",
       "      <th>2</th>\n",
       "      <td>KLCC</td>\n",
       "      <td>3600000.0000</td>\n",
       "      <td>4</td>\n",
       "      <td>4.0000</td>\n",
       "      <td>Serviced Residence</td>\n",
       "      <td>3897.0000</td>\n",
       "      <td>Partly Furnished</td>\n",
       "      <td>0</td>\n",
       "      <td>53.0000</td>\n",
       "      <td>24.0000</td>\n",
       "      <td>20.0000</td>\n",
       "      <td>5.0000</td>\n",
       "      <td>813.0000</td>\n",
       "    </tr>\n",
       "    <tr>\n",
       "      <th>3</th>\n",
       "      <td>KLCC</td>\n",
       "      <td>4280000.0000</td>\n",
       "      <td>3</td>\n",
       "      <td>4.0000</td>\n",
       "      <td>Serviced Residence</td>\n",
       "      <td>2195.0000</td>\n",
       "      <td>Fully Furnished</td>\n",
       "      <td>1</td>\n",
       "      <td>53.0000</td>\n",
       "      <td>24.0000</td>\n",
       "      <td>20.0000</td>\n",
       "      <td>5.0000</td>\n",
       "      <td>813.0000</td>\n",
       "    </tr>\n",
       "    <tr>\n",
       "      <th>4</th>\n",
       "      <td>KLCC</td>\n",
       "      <td>2300000.0000</td>\n",
       "      <td>1</td>\n",
       "      <td>2.0000</td>\n",
       "      <td>Serviced Residence</td>\n",
       "      <td>1023.0000</td>\n",
       "      <td>Partly Furnished</td>\n",
       "      <td>0</td>\n",
       "      <td>53.0000</td>\n",
       "      <td>24.0000</td>\n",
       "      <td>20.0000</td>\n",
       "      <td>5.0000</td>\n",
       "      <td>813.0000</td>\n",
       "    </tr>\n",
       "  </tbody>\n",
       "</table>\n",
       "</div>"
      ],
      "text/plain": [
       "  Location        Price  Rooms  Bathrooms       Property Type      Size  \\\n",
       "0     KLCC 1250000.0000      2     3.0000  Serviced Residence 1335.0000   \n",
       "1     KLCC 2400000.0000      2     2.0000  Serviced Residence 1006.0000   \n",
       "2     KLCC 3600000.0000      4     4.0000  Serviced Residence 3897.0000   \n",
       "3     KLCC 4280000.0000      3     4.0000  Serviced Residence 2195.0000   \n",
       "4     KLCC 2300000.0000      1     2.0000  Serviced Residence 1023.0000   \n",
       "\n",
       "         Furnishing  Store Rooms  Places of Worship  Schools  Hospitals  \\\n",
       "0   Fully Furnished            1            53.0000  24.0000    20.0000   \n",
       "1   Fully Furnished            0            53.0000  24.0000    20.0000   \n",
       "2  Partly Furnished            0            53.0000  24.0000    20.0000   \n",
       "3   Fully Furnished            1            53.0000  24.0000    20.0000   \n",
       "4  Partly Furnished            0            53.0000  24.0000    20.0000   \n",
       "\n",
       "   Malls  Restaurants  \n",
       "0 5.0000     813.0000  \n",
       "1 5.0000     813.0000  \n",
       "2 5.0000     813.0000  \n",
       "3 5.0000     813.0000  \n",
       "4 5.0000     813.0000  "
      ]
     },
     "execution_count": 2,
     "metadata": {},
     "output_type": "execute_result"
    }
   ],
   "source": [
    "# Load the dataset\n",
    "\n",
    "df = pd.read_csv('Cleaned_Data.csv')\n",
    "df.head()"
   ]
  },
  {
   "cell_type": "code",
   "execution_count": 3,
   "metadata": {},
   "outputs": [
    {
     "name": "stdout",
     "output_type": "stream",
     "text": [
      "<class 'pandas.core.frame.DataFrame'>\n",
      "RangeIndex: 44223 entries, 0 to 44222\n",
      "Data columns (total 13 columns):\n",
      " #   Column             Non-Null Count  Dtype  \n",
      "---  ------             --------------  -----  \n",
      " 0   Location           44223 non-null  object \n",
      " 1   Price              44223 non-null  float64\n",
      " 2   Rooms              44223 non-null  int64  \n",
      " 3   Bathrooms          44223 non-null  float64\n",
      " 4   Property Type      44223 non-null  object \n",
      " 5   Size               44223 non-null  float64\n",
      " 6   Furnishing         44223 non-null  object \n",
      " 7   Store Rooms        44223 non-null  int64  \n",
      " 8   Places of Worship  44223 non-null  float64\n",
      " 9   Schools            44223 non-null  float64\n",
      " 10  Hospitals          44223 non-null  float64\n",
      " 11  Malls              44223 non-null  float64\n",
      " 12  Restaurants        44223 non-null  float64\n",
      "dtypes: float64(8), int64(2), object(3)\n",
      "memory usage: 4.4+ MB\n"
     ]
    }
   ],
   "source": [
    "df.info()"
   ]
  },
  {
   "cell_type": "markdown",
   "metadata": {},
   "source": [
    "## Feature Extraction"
   ]
  },
  {
   "cell_type": "markdown",
   "metadata": {},
   "source": [
    "### Encoding"
   ]
  },
  {
   "cell_type": "code",
   "execution_count": 4,
   "metadata": {},
   "outputs": [
    {
     "name": "stdout",
     "output_type": "stream",
     "text": [
      "Index(['Location', 'Property Type', 'Furnishing'], dtype='object')\n"
     ]
    }
   ],
   "source": [
    "# Select categorical columns\n",
    "\n",
    "categorical = df.select_dtypes(exclude=[np.number]).columns\n",
    "print (categorical)"
   ]
  },
  {
   "cell_type": "code",
   "execution_count": 5,
   "metadata": {},
   "outputs": [],
   "source": [
    "le_location = LabelEncoder()\n",
    "df['Location'] = le_location.fit_transform(df['Location'])"
   ]
  },
  {
   "cell_type": "code",
   "execution_count": 6,
   "metadata": {},
   "outputs": [],
   "source": [
    "le_proptype = LabelEncoder()\n",
    "df['Property Type'] = le_proptype.fit_transform(df['Property Type'])"
   ]
  },
  {
   "cell_type": "code",
   "execution_count": 7,
   "metadata": {},
   "outputs": [],
   "source": [
    "le_furnishing = LabelEncoder()\n",
    "df['Furnishing'] = le_furnishing.fit_transform(df['Furnishing'])"
   ]
  },
  {
   "cell_type": "markdown",
   "metadata": {},
   "source": [
    "### Split and Scale the Dataset"
   ]
  },
  {
   "cell_type": "code",
   "execution_count": 9,
   "metadata": {},
   "outputs": [],
   "source": [
    "# Shuffle rows\n",
    "\n",
    "df = shuffle(df, random_state=42)"
   ]
  },
  {
   "cell_type": "code",
   "execution_count": 10,
   "metadata": {},
   "outputs": [],
   "source": [
    "# Split dataset into features and outcome\n",
    "\n",
    "DV = 'Price'\n",
    "x = df.drop(DV, axis=1)\n",
    "y = df[DV]"
   ]
  },
  {
   "cell_type": "code",
   "execution_count": 11,
   "metadata": {},
   "outputs": [],
   "source": [
    "# Split into train and test\n",
    "\n",
    "x_train, x_test, y_train, y_test = train_test_split (x, y, test_size=0.20,\n",
    "random_state=42)"
   ]
  },
  {
   "cell_type": "code",
   "execution_count": 12,
   "metadata": {},
   "outputs": [],
   "source": [
    "# Select all numerical columns except for Price\n",
    "\n",
    "numerical = ['Rooms', 'Bathrooms', 'Size', 'Store Rooms', 'Places of Worship',\\\n",
    "             'Schools', 'Hospitals', 'Malls', 'Restaurants']"
   ]
  },
  {
   "cell_type": "code",
   "execution_count": 13,
   "metadata": {},
   "outputs": [
    {
     "data": {
      "text/html": [
       "<div>\n",
       "<style scoped>\n",
       "    .dataframe tbody tr th:only-of-type {\n",
       "        vertical-align: middle;\n",
       "    }\n",
       "\n",
       "    .dataframe tbody tr th {\n",
       "        vertical-align: top;\n",
       "    }\n",
       "\n",
       "    .dataframe thead th {\n",
       "        text-align: right;\n",
       "    }\n",
       "</style>\n",
       "<table border=\"1\" class=\"dataframe\">\n",
       "  <thead>\n",
       "    <tr style=\"text-align: right;\">\n",
       "      <th></th>\n",
       "      <th>Location</th>\n",
       "      <th>Rooms</th>\n",
       "      <th>Bathrooms</th>\n",
       "      <th>Property Type</th>\n",
       "      <th>Size</th>\n",
       "      <th>Furnishing</th>\n",
       "      <th>Store Rooms</th>\n",
       "      <th>Places of Worship</th>\n",
       "      <th>Schools</th>\n",
       "      <th>Hospitals</th>\n",
       "      <th>Malls</th>\n",
       "      <th>Restaurants</th>\n",
       "    </tr>\n",
       "  </thead>\n",
       "  <tbody>\n",
       "    <tr>\n",
       "      <th>36520</th>\n",
       "      <td>0</td>\n",
       "      <td>0.3333</td>\n",
       "      <td>0.3333</td>\n",
       "      <td>2</td>\n",
       "      <td>0.3248</td>\n",
       "      <td>0</td>\n",
       "      <td>0.5000</td>\n",
       "      <td>1.0000</td>\n",
       "      <td>0.5714</td>\n",
       "      <td>0.9130</td>\n",
       "      <td>0.6250</td>\n",
       "      <td>0.7888</td>\n",
       "    </tr>\n",
       "    <tr>\n",
       "      <th>1863</th>\n",
       "      <td>32</td>\n",
       "      <td>0.1667</td>\n",
       "      <td>0.1667</td>\n",
       "      <td>6</td>\n",
       "      <td>0.2287</td>\n",
       "      <td>0</td>\n",
       "      <td>0.5000</td>\n",
       "      <td>0.9500</td>\n",
       "      <td>0.7857</td>\n",
       "      <td>0.8696</td>\n",
       "      <td>0.6250</td>\n",
       "      <td>0.8123</td>\n",
       "    </tr>\n",
       "    <tr>\n",
       "      <th>18650</th>\n",
       "      <td>25</td>\n",
       "      <td>0.3333</td>\n",
       "      <td>0.3333</td>\n",
       "      <td>7</td>\n",
       "      <td>0.2638</td>\n",
       "      <td>2</td>\n",
       "      <td>0.5000</td>\n",
       "      <td>0.5500</td>\n",
       "      <td>0.7500</td>\n",
       "      <td>0.0435</td>\n",
       "      <td>0.6250</td>\n",
       "      <td>0.5486</td>\n",
       "    </tr>\n",
       "    <tr>\n",
       "      <th>43497</th>\n",
       "      <td>60</td>\n",
       "      <td>0.3333</td>\n",
       "      <td>0.1667</td>\n",
       "      <td>6</td>\n",
       "      <td>0.1358</td>\n",
       "      <td>0</td>\n",
       "      <td>0.0000</td>\n",
       "      <td>0.9750</td>\n",
       "      <td>0.6429</td>\n",
       "      <td>0.9130</td>\n",
       "      <td>0.6250</td>\n",
       "      <td>0.8067</td>\n",
       "    </tr>\n",
       "    <tr>\n",
       "      <th>34544</th>\n",
       "      <td>14</td>\n",
       "      <td>0.6667</td>\n",
       "      <td>0.6667</td>\n",
       "      <td>5</td>\n",
       "      <td>0.6737</td>\n",
       "      <td>1</td>\n",
       "      <td>1.0000</td>\n",
       "      <td>0.2500</td>\n",
       "      <td>0.2857</td>\n",
       "      <td>0.0435</td>\n",
       "      <td>0.1250</td>\n",
       "      <td>0.0626</td>\n",
       "    </tr>\n",
       "  </tbody>\n",
       "</table>\n",
       "</div>"
      ],
      "text/plain": [
       "       Location  Rooms  Bathrooms  Property Type   Size  Furnishing  \\\n",
       "36520         0 0.3333     0.3333              2 0.3248           0   \n",
       "1863         32 0.1667     0.1667              6 0.2287           0   \n",
       "18650        25 0.3333     0.3333              7 0.2638           2   \n",
       "43497        60 0.3333     0.1667              6 0.1358           0   \n",
       "34544        14 0.6667     0.6667              5 0.6737           1   \n",
       "\n",
       "       Store Rooms  Places of Worship  Schools  Hospitals  Malls  Restaurants  \n",
       "36520       0.5000             1.0000   0.5714     0.9130 0.6250       0.7888  \n",
       "1863        0.5000             0.9500   0.7857     0.8696 0.6250       0.8123  \n",
       "18650       0.5000             0.5500   0.7500     0.0435 0.6250       0.5486  \n",
       "43497       0.0000             0.9750   0.6429     0.9130 0.6250       0.8067  \n",
       "34544       1.0000             0.2500   0.2857     0.0435 0.1250       0.0626  "
      ]
     },
     "execution_count": 13,
     "metadata": {},
     "output_type": "execute_result"
    }
   ],
   "source": [
    "# Scale numerical columns\n",
    "\n",
    "scaler = MinMaxScaler()\n",
    "x_train[numerical] = scaler.fit_transform(x_train[numerical])\n",
    "x_train.head()"
   ]
  },
  {
   "cell_type": "code",
   "execution_count": 14,
   "metadata": {},
   "outputs": [
    {
     "data": {
      "text/html": [
       "<div>\n",
       "<style scoped>\n",
       "    .dataframe tbody tr th:only-of-type {\n",
       "        vertical-align: middle;\n",
       "    }\n",
       "\n",
       "    .dataframe tbody tr th {\n",
       "        vertical-align: top;\n",
       "    }\n",
       "\n",
       "    .dataframe thead th {\n",
       "        text-align: right;\n",
       "    }\n",
       "</style>\n",
       "<table border=\"1\" class=\"dataframe\">\n",
       "  <thead>\n",
       "    <tr style=\"text-align: right;\">\n",
       "      <th></th>\n",
       "      <th>Location</th>\n",
       "      <th>Rooms</th>\n",
       "      <th>Bathrooms</th>\n",
       "      <th>Property Type</th>\n",
       "      <th>Size</th>\n",
       "      <th>Furnishing</th>\n",
       "      <th>Store Rooms</th>\n",
       "      <th>Places of Worship</th>\n",
       "      <th>Schools</th>\n",
       "      <th>Hospitals</th>\n",
       "      <th>Malls</th>\n",
       "      <th>Restaurants</th>\n",
       "    </tr>\n",
       "  </thead>\n",
       "  <tbody>\n",
       "    <tr>\n",
       "      <th>41944</th>\n",
       "      <td>51</td>\n",
       "      <td>0.5000</td>\n",
       "      <td>0.6667</td>\n",
       "      <td>2</td>\n",
       "      <td>0.7418</td>\n",
       "      <td>0</td>\n",
       "      <td>0.5000</td>\n",
       "      <td>0.5500</td>\n",
       "      <td>0.5357</td>\n",
       "      <td>0.2609</td>\n",
       "      <td>0.3750</td>\n",
       "      <td>0.4447</td>\n",
       "    </tr>\n",
       "    <tr>\n",
       "      <th>22395</th>\n",
       "      <td>49</td>\n",
       "      <td>0.3333</td>\n",
       "      <td>0.1667</td>\n",
       "      <td>6</td>\n",
       "      <td>0.1204</td>\n",
       "      <td>2</td>\n",
       "      <td>0.0000</td>\n",
       "      <td>0.8000</td>\n",
       "      <td>0.4643</td>\n",
       "      <td>1.0000</td>\n",
       "      <td>0.2500</td>\n",
       "      <td>0.4391</td>\n",
       "    </tr>\n",
       "    <tr>\n",
       "      <th>14960</th>\n",
       "      <td>20</td>\n",
       "      <td>0.5000</td>\n",
       "      <td>0.6667</td>\n",
       "      <td>5</td>\n",
       "      <td>0.8796</td>\n",
       "      <td>2</td>\n",
       "      <td>0.5000</td>\n",
       "      <td>0.1750</td>\n",
       "      <td>0.1429</td>\n",
       "      <td>0.1739</td>\n",
       "      <td>0.1250</td>\n",
       "      <td>0.1553</td>\n",
       "    </tr>\n",
       "    <tr>\n",
       "      <th>41012</th>\n",
       "      <td>12</td>\n",
       "      <td>0.3333</td>\n",
       "      <td>0.3333</td>\n",
       "      <td>2</td>\n",
       "      <td>0.4303</td>\n",
       "      <td>1</td>\n",
       "      <td>0.5000</td>\n",
       "      <td>0.5500</td>\n",
       "      <td>0.6071</td>\n",
       "      <td>0.1739</td>\n",
       "      <td>0.5000</td>\n",
       "      <td>0.4732</td>\n",
       "    </tr>\n",
       "    <tr>\n",
       "      <th>36204</th>\n",
       "      <td>0</td>\n",
       "      <td>0.3333</td>\n",
       "      <td>0.3333</td>\n",
       "      <td>6</td>\n",
       "      <td>0.1642</td>\n",
       "      <td>0</td>\n",
       "      <td>0.0000</td>\n",
       "      <td>1.0000</td>\n",
       "      <td>0.5714</td>\n",
       "      <td>0.9130</td>\n",
       "      <td>0.6250</td>\n",
       "      <td>0.7888</td>\n",
       "    </tr>\n",
       "  </tbody>\n",
       "</table>\n",
       "</div>"
      ],
      "text/plain": [
       "       Location  Rooms  Bathrooms  Property Type   Size  Furnishing  \\\n",
       "41944        51 0.5000     0.6667              2 0.7418           0   \n",
       "22395        49 0.3333     0.1667              6 0.1204           2   \n",
       "14960        20 0.5000     0.6667              5 0.8796           2   \n",
       "41012        12 0.3333     0.3333              2 0.4303           1   \n",
       "36204         0 0.3333     0.3333              6 0.1642           0   \n",
       "\n",
       "       Store Rooms  Places of Worship  Schools  Hospitals  Malls  Restaurants  \n",
       "41944       0.5000             0.5500   0.5357     0.2609 0.3750       0.4447  \n",
       "22395       0.0000             0.8000   0.4643     1.0000 0.2500       0.4391  \n",
       "14960       0.5000             0.1750   0.1429     0.1739 0.1250       0.1553  \n",
       "41012       0.5000             0.5500   0.6071     0.1739 0.5000       0.4732  \n",
       "36204       0.0000             1.0000   0.5714     0.9130 0.6250       0.7888  "
      ]
     },
     "execution_count": 14,
     "metadata": {},
     "output_type": "execute_result"
    }
   ],
   "source": [
    "x_test[numerical] = scaler.transform(x_test[numerical])\n",
    "x_test.head()"
   ]
  },
  {
   "cell_type": "code",
   "execution_count": 15,
   "metadata": {},
   "outputs": [
    {
     "data": {
      "text/plain": [
       "['scaler.save']"
      ]
     },
     "execution_count": 15,
     "metadata": {},
     "output_type": "execute_result"
    }
   ],
   "source": [
    "joblib.dump(scaler, 'scaler.save')"
   ]
  },
  {
   "cell_type": "markdown",
   "metadata": {},
   "source": [
    "## Modelling"
   ]
  },
  {
   "cell_type": "markdown",
   "metadata": {},
   "source": [
    "### XGBoost"
   ]
  },
  {
   "cell_type": "code",
   "execution_count": 41,
   "metadata": {},
   "outputs": [
    {
     "name": "stdout",
     "output_type": "stream",
     "text": [
      "Fitting 3 folds for each of 81 candidates, totalling 243 fits\n",
      "Best score: 0.9018803211613381\n",
      "Best parameters set:\n",
      "\tcolsample_bytree: 0.7\n",
      "\tlearning_rate: 0.03\n",
      "\tmax_depth: 20\n",
      "\tmin_child_weight: 3\n",
      "\tn_estimators: 300\n",
      "\tnthread: 4\n",
      "\tobjective: reg:squarederror\n",
      "\tsubsample: 0.7\n"
     ]
    }
   ],
   "source": [
    "XGB = XGBRegressor(random_state=42)\n",
    "\n",
    "param_grid = {'nthread':[4], \n",
    "              'objective':['reg:squarederror'],\n",
    "              'learning_rate': [0.03, 0.05, 0.07], \n",
    "              'max_depth': [10, 15, 20],\n",
    "              'min_child_weight': [1, 3, 5],\n",
    "              'subsample': [0.7],\n",
    "              'colsample_bytree': [0.7],\n",
    "              'n_estimators': [100, 300, 500]}\n",
    "\n",
    "XGB_model = model_selection.GridSearchCV(\n",
    "estimator=XGB,\n",
    "param_grid=param_grid,\n",
    "verbose=True,\n",
    "n_jobs=-1,\n",
    "cv=3\n",
    ")\n",
    "\n",
    "XGB_model.fit(x_train, y_train)\n",
    "print(f\"Best score: {XGB_model.best_score_}\")\n",
    "print(\"Best parameters set:\")\n",
    "best_parameters = XGB_model.best_estimator_.get_params()\n",
    "for param_name in sorted(param_grid.keys()):\n",
    "    print(f\"\\t{param_name}: {best_parameters[param_name]}\")"
   ]
  },
  {
   "cell_type": "code",
   "execution_count": 16,
   "metadata": {},
   "outputs": [
    {
     "data": {
      "text/html": [
       "<style>#sk-container-id-1 {color: black;background-color: white;}#sk-container-id-1 pre{padding: 0;}#sk-container-id-1 div.sk-toggleable {background-color: white;}#sk-container-id-1 label.sk-toggleable__label {cursor: pointer;display: block;width: 100%;margin-bottom: 0;padding: 0.3em;box-sizing: border-box;text-align: center;}#sk-container-id-1 label.sk-toggleable__label-arrow:before {content: \"▸\";float: left;margin-right: 0.25em;color: #696969;}#sk-container-id-1 label.sk-toggleable__label-arrow:hover:before {color: black;}#sk-container-id-1 div.sk-estimator:hover label.sk-toggleable__label-arrow:before {color: black;}#sk-container-id-1 div.sk-toggleable__content {max-height: 0;max-width: 0;overflow: hidden;text-align: left;background-color: #f0f8ff;}#sk-container-id-1 div.sk-toggleable__content pre {margin: 0.2em;color: black;border-radius: 0.25em;background-color: #f0f8ff;}#sk-container-id-1 input.sk-toggleable__control:checked~div.sk-toggleable__content {max-height: 200px;max-width: 100%;overflow: auto;}#sk-container-id-1 input.sk-toggleable__control:checked~label.sk-toggleable__label-arrow:before {content: \"▾\";}#sk-container-id-1 div.sk-estimator input.sk-toggleable__control:checked~label.sk-toggleable__label {background-color: #d4ebff;}#sk-container-id-1 div.sk-label input.sk-toggleable__control:checked~label.sk-toggleable__label {background-color: #d4ebff;}#sk-container-id-1 input.sk-hidden--visually {border: 0;clip: rect(1px 1px 1px 1px);clip: rect(1px, 1px, 1px, 1px);height: 1px;margin: -1px;overflow: hidden;padding: 0;position: absolute;width: 1px;}#sk-container-id-1 div.sk-estimator {font-family: monospace;background-color: #f0f8ff;border: 1px dotted black;border-radius: 0.25em;box-sizing: border-box;margin-bottom: 0.5em;}#sk-container-id-1 div.sk-estimator:hover {background-color: #d4ebff;}#sk-container-id-1 div.sk-parallel-item::after {content: \"\";width: 100%;border-bottom: 1px solid gray;flex-grow: 1;}#sk-container-id-1 div.sk-label:hover label.sk-toggleable__label {background-color: #d4ebff;}#sk-container-id-1 div.sk-serial::before {content: \"\";position: absolute;border-left: 1px solid gray;box-sizing: border-box;top: 0;bottom: 0;left: 50%;z-index: 0;}#sk-container-id-1 div.sk-serial {display: flex;flex-direction: column;align-items: center;background-color: white;padding-right: 0.2em;padding-left: 0.2em;position: relative;}#sk-container-id-1 div.sk-item {position: relative;z-index: 1;}#sk-container-id-1 div.sk-parallel {display: flex;align-items: stretch;justify-content: center;background-color: white;position: relative;}#sk-container-id-1 div.sk-item::before, #sk-container-id-1 div.sk-parallel-item::before {content: \"\";position: absolute;border-left: 1px solid gray;box-sizing: border-box;top: 0;bottom: 0;left: 50%;z-index: -1;}#sk-container-id-1 div.sk-parallel-item {display: flex;flex-direction: column;z-index: 1;position: relative;background-color: white;}#sk-container-id-1 div.sk-parallel-item:first-child::after {align-self: flex-end;width: 50%;}#sk-container-id-1 div.sk-parallel-item:last-child::after {align-self: flex-start;width: 50%;}#sk-container-id-1 div.sk-parallel-item:only-child::after {width: 0;}#sk-container-id-1 div.sk-dashed-wrapped {border: 1px dashed gray;margin: 0 0.4em 0.5em 0.4em;box-sizing: border-box;padding-bottom: 0.4em;background-color: white;}#sk-container-id-1 div.sk-label label {font-family: monospace;font-weight: bold;display: inline-block;line-height: 1.2em;}#sk-container-id-1 div.sk-label-container {text-align: center;}#sk-container-id-1 div.sk-container {/* jupyter's `normalize.less` sets `[hidden] { display: none; }` but bootstrap.min.css set `[hidden] { display: none !important; }` so we also need the `!important` here to be able to override the default hidden behavior on the sphinx rendered scikit-learn.org. See: https://github.com/scikit-learn/scikit-learn/issues/21755 */display: inline-block !important;position: relative;}#sk-container-id-1 div.sk-text-repr-fallback {display: none;}</style><div id=\"sk-container-id-1\" class=\"sk-top-container\"><div class=\"sk-text-repr-fallback\"><pre>XGBRegressor(base_score=None, booster=None, callbacks=None,\n",
       "             colsample_bylevel=None, colsample_bynode=None,\n",
       "             colsample_bytree=0.7, early_stopping_rounds=None,\n",
       "             enable_categorical=False, eval_metric=None, feature_types=None,\n",
       "             gamma=None, gpu_id=None, grow_policy=None, importance_type=None,\n",
       "             interaction_constraints=None, learning_rate=0.03, max_bin=None,\n",
       "             max_cat_threshold=None, max_cat_to_onehot=None,\n",
       "             max_delta_step=None, max_depth=20, max_leaves=None,\n",
       "             min_child_weight=3, missing=nan, monotone_constraints=None,\n",
       "             n_estimators=300, n_jobs=None, nthread=4, num_parallel_tree=None,\n",
       "             predictor=None, ...)</pre><b>In a Jupyter environment, please rerun this cell to show the HTML representation or trust the notebook. <br />On GitHub, the HTML representation is unable to render, please try loading this page with nbviewer.org.</b></div><div class=\"sk-container\" hidden><div class=\"sk-item\"><div class=\"sk-estimator sk-toggleable\"><input class=\"sk-toggleable__control sk-hidden--visually\" id=\"sk-estimator-id-1\" type=\"checkbox\" checked><label for=\"sk-estimator-id-1\" class=\"sk-toggleable__label sk-toggleable__label-arrow\">XGBRegressor</label><div class=\"sk-toggleable__content\"><pre>XGBRegressor(base_score=None, booster=None, callbacks=None,\n",
       "             colsample_bylevel=None, colsample_bynode=None,\n",
       "             colsample_bytree=0.7, early_stopping_rounds=None,\n",
       "             enable_categorical=False, eval_metric=None, feature_types=None,\n",
       "             gamma=None, gpu_id=None, grow_policy=None, importance_type=None,\n",
       "             interaction_constraints=None, learning_rate=0.03, max_bin=None,\n",
       "             max_cat_threshold=None, max_cat_to_onehot=None,\n",
       "             max_delta_step=None, max_depth=20, max_leaves=None,\n",
       "             min_child_weight=3, missing=nan, monotone_constraints=None,\n",
       "             n_estimators=300, n_jobs=None, nthread=4, num_parallel_tree=None,\n",
       "             predictor=None, ...)</pre></div></div></div></div></div>"
      ],
      "text/plain": [
       "XGBRegressor(base_score=None, booster=None, callbacks=None,\n",
       "             colsample_bylevel=None, colsample_bynode=None,\n",
       "             colsample_bytree=0.7, early_stopping_rounds=None,\n",
       "             enable_categorical=False, eval_metric=None, feature_types=None,\n",
       "             gamma=None, gpu_id=None, grow_policy=None, importance_type=None,\n",
       "             interaction_constraints=None, learning_rate=0.03, max_bin=None,\n",
       "             max_cat_threshold=None, max_cat_to_onehot=None,\n",
       "             max_delta_step=None, max_depth=20, max_leaves=None,\n",
       "             min_child_weight=3, missing=nan, monotone_constraints=None,\n",
       "             n_estimators=300, n_jobs=None, nthread=4, num_parallel_tree=None,\n",
       "             predictor=None, ...)"
      ]
     },
     "execution_count": 16,
     "metadata": {},
     "output_type": "execute_result"
    }
   ],
   "source": [
    "# Build XGBoost model\n",
    "\n",
    "XGB_model = XGBRegressor(\n",
    "    random_state=42,\n",
    "    colsample_bytree=0.7,\n",
    "    learning_rate=0.03,\n",
    "    max_depth=20,\n",
    "    min_child_weight=3,\n",
    "    n_estimators=300,\n",
    "    nthread=4,\n",
    "    objective='reg:squarederror',\n",
    "    subsample=0.7\n",
    ")\n",
    "\n",
    "XGB_model.fit(x_train, y_train)"
   ]
  },
  {
   "cell_type": "code",
   "execution_count": 17,
   "metadata": {},
   "outputs": [
    {
     "name": "stdout",
     "output_type": "stream",
     "text": [
      "[3131571.    489288.28 2232439.   1594082.2  1108590.6   587507.7\n",
      "  463302.03  554740.7  2498093.8   695673.1 ]\n"
     ]
    }
   ],
   "source": [
    "# Generate predictions\n",
    "\n",
    "XGB_pred = XGB_model.predict(x_test)\n",
    "print(XGB_pred[:10])"
   ]
  },
  {
   "cell_type": "code",
   "execution_count": 54,
   "metadata": {},
   "outputs": [
    {
     "data": {
      "text/html": [
       "<div>\n",
       "<style scoped>\n",
       "    .dataframe tbody tr th:only-of-type {\n",
       "        vertical-align: middle;\n",
       "    }\n",
       "\n",
       "    .dataframe tbody tr th {\n",
       "        vertical-align: top;\n",
       "    }\n",
       "\n",
       "    .dataframe thead th {\n",
       "        text-align: right;\n",
       "    }\n",
       "</style>\n",
       "<table border=\"1\" class=\"dataframe\">\n",
       "  <thead>\n",
       "    <tr style=\"text-align: right;\">\n",
       "      <th></th>\n",
       "      <th>Metric</th>\n",
       "      <th>XGBoost</th>\n",
       "    </tr>\n",
       "  </thead>\n",
       "  <tbody>\n",
       "    <tr>\n",
       "      <th>0</th>\n",
       "      <td>MAE</td>\n",
       "      <td>149333.6267</td>\n",
       "    </tr>\n",
       "    <tr>\n",
       "      <th>1</th>\n",
       "      <td>MSE</td>\n",
       "      <td>96422484087.3409</td>\n",
       "    </tr>\n",
       "    <tr>\n",
       "      <th>2</th>\n",
       "      <td>RMSE</td>\n",
       "      <td>310519.7000</td>\n",
       "    </tr>\n",
       "    <tr>\n",
       "      <th>3</th>\n",
       "      <td>R-Squared</td>\n",
       "      <td>0.9109</td>\n",
       "    </tr>\n",
       "  </tbody>\n",
       "</table>\n",
       "</div>"
      ],
      "text/plain": [
       "      Metric          XGBoost\n",
       "0        MAE      149333.6267\n",
       "1        MSE 96422484087.3409\n",
       "2       RMSE      310519.7000\n",
       "3  R-Squared           0.9109"
      ]
     },
     "execution_count": 54,
     "metadata": {},
     "output_type": "execute_result"
    }
   ],
   "source": [
    "# Find metrics\n",
    "from sklearn import metrics\n",
    "\n",
    "XGB_metrics = pd.DataFrame ({'Metric':\n",
    "['MAE',\n",
    "'MSE',\n",
    "'RMSE',\n",
    "'R-Squared'], 'XGBoost':\n",
    "[metrics.mean_absolute_error(y_test, XGB_pred),\n",
    "metrics.mean_squared_error (y_test, XGB_pred),\n",
    "np.sqrt (metrics.mean_squared_error (y_test, XGB_pred)),\n",
    "metrics.explained_variance_score (y_test, XGB_pred)]})\n",
    "XGB_metrics"
   ]
  },
  {
   "cell_type": "code",
   "execution_count": 48,
   "metadata": {},
   "outputs": [
    {
     "name": "stdout",
     "output_type": "stream",
     "text": [
      "      Metric           XGBoost\n",
      "0        MAE       196629.9185\n",
      "1        MSE 124185749632.9128\n",
      "2       RMSE       352399.9853\n",
      "3  R-Squared            0.8852\n"
     ]
    }
   ],
   "source": [
    "from sklearn import metrics\n",
    "\n",
    "model = XGBRegressor()\n",
    "model.fit(x_train, y_train)\n",
    "pred = model.predict(x_test)\n",
    "metrics = pd.DataFrame ({'Metric':\n",
    "['MAE',\n",
    "'MSE',\n",
    "'RMSE',\n",
    "'R-Squared'], 'XGBoost':\n",
    "[metrics.mean_absolute_error(y_test, pred),\n",
    "metrics.mean_squared_error (y_test, pred),\n",
    "np.sqrt (metrics.mean_squared_error (y_test, pred)),\n",
    "metrics.explained_variance_score (y_test, pred)]})\n",
    "print(metrics)"
   ]
  },
  {
   "cell_type": "markdown",
   "metadata": {},
   "source": [
    "### Random Forest"
   ]
  },
  {
   "cell_type": "code",
   "execution_count": 50,
   "metadata": {},
   "outputs": [
    {
     "name": "stdout",
     "output_type": "stream",
     "text": [
      "Fitting 3 folds for each of 108 candidates, totalling 324 fits\n",
      "Best score: 0.8938729880840653\n",
      "Best parameters set:\n",
      "\tmax_depth: 50\n",
      "\tmax_features: 10\n",
      "\tmin_samples_leaf: 1\n",
      "\tmin_samples_split: 5\n",
      "\tn_estimators: 200\n"
     ]
    }
   ],
   "source": [
    "# Grid Search for Random Forest\n",
    "\n",
    "RF = RandomForestRegressor(random_state=42)\n",
    "\n",
    "param_grid = {\n",
    "\"n_estimators\": [200, 500, 1000],\n",
    "'max_features': [4, 7, 10],\n",
    "\"max_depth\": [25, 50, 100],\n",
    "'min_samples_leaf': [1, 3],\n",
    "'min_samples_split': [5, 10]\n",
    "}\n",
    "\n",
    "RF_model = model_selection.GridSearchCV(\n",
    "estimator=RF,\n",
    "param_grid=param_grid,\n",
    "verbose=10,\n",
    "n_jobs=-1,\n",
    "cv=3\n",
    ")\n",
    "\n",
    "RF_model.fit(x_train, y_train)\n",
    "print(f\"Best score: {RF_model.best_score_}\")\n",
    "print(\"Best parameters set:\")\n",
    "best_parameters = RF_model.best_estimator_.get_params()\n",
    "for param_name in sorted(param_grid.keys()):\n",
    "    print(f\"\\t{param_name}: {best_parameters[param_name]}\")"
   ]
  },
  {
   "cell_type": "code",
   "execution_count": 19,
   "metadata": {},
   "outputs": [
    {
     "data": {
      "text/html": [
       "<style>#sk-container-id-2 {color: black;background-color: white;}#sk-container-id-2 pre{padding: 0;}#sk-container-id-2 div.sk-toggleable {background-color: white;}#sk-container-id-2 label.sk-toggleable__label {cursor: pointer;display: block;width: 100%;margin-bottom: 0;padding: 0.3em;box-sizing: border-box;text-align: center;}#sk-container-id-2 label.sk-toggleable__label-arrow:before {content: \"▸\";float: left;margin-right: 0.25em;color: #696969;}#sk-container-id-2 label.sk-toggleable__label-arrow:hover:before {color: black;}#sk-container-id-2 div.sk-estimator:hover label.sk-toggleable__label-arrow:before {color: black;}#sk-container-id-2 div.sk-toggleable__content {max-height: 0;max-width: 0;overflow: hidden;text-align: left;background-color: #f0f8ff;}#sk-container-id-2 div.sk-toggleable__content pre {margin: 0.2em;color: black;border-radius: 0.25em;background-color: #f0f8ff;}#sk-container-id-2 input.sk-toggleable__control:checked~div.sk-toggleable__content {max-height: 200px;max-width: 100%;overflow: auto;}#sk-container-id-2 input.sk-toggleable__control:checked~label.sk-toggleable__label-arrow:before {content: \"▾\";}#sk-container-id-2 div.sk-estimator input.sk-toggleable__control:checked~label.sk-toggleable__label {background-color: #d4ebff;}#sk-container-id-2 div.sk-label input.sk-toggleable__control:checked~label.sk-toggleable__label {background-color: #d4ebff;}#sk-container-id-2 input.sk-hidden--visually {border: 0;clip: rect(1px 1px 1px 1px);clip: rect(1px, 1px, 1px, 1px);height: 1px;margin: -1px;overflow: hidden;padding: 0;position: absolute;width: 1px;}#sk-container-id-2 div.sk-estimator {font-family: monospace;background-color: #f0f8ff;border: 1px dotted black;border-radius: 0.25em;box-sizing: border-box;margin-bottom: 0.5em;}#sk-container-id-2 div.sk-estimator:hover {background-color: #d4ebff;}#sk-container-id-2 div.sk-parallel-item::after {content: \"\";width: 100%;border-bottom: 1px solid gray;flex-grow: 1;}#sk-container-id-2 div.sk-label:hover label.sk-toggleable__label {background-color: #d4ebff;}#sk-container-id-2 div.sk-serial::before {content: \"\";position: absolute;border-left: 1px solid gray;box-sizing: border-box;top: 0;bottom: 0;left: 50%;z-index: 0;}#sk-container-id-2 div.sk-serial {display: flex;flex-direction: column;align-items: center;background-color: white;padding-right: 0.2em;padding-left: 0.2em;position: relative;}#sk-container-id-2 div.sk-item {position: relative;z-index: 1;}#sk-container-id-2 div.sk-parallel {display: flex;align-items: stretch;justify-content: center;background-color: white;position: relative;}#sk-container-id-2 div.sk-item::before, #sk-container-id-2 div.sk-parallel-item::before {content: \"\";position: absolute;border-left: 1px solid gray;box-sizing: border-box;top: 0;bottom: 0;left: 50%;z-index: -1;}#sk-container-id-2 div.sk-parallel-item {display: flex;flex-direction: column;z-index: 1;position: relative;background-color: white;}#sk-container-id-2 div.sk-parallel-item:first-child::after {align-self: flex-end;width: 50%;}#sk-container-id-2 div.sk-parallel-item:last-child::after {align-self: flex-start;width: 50%;}#sk-container-id-2 div.sk-parallel-item:only-child::after {width: 0;}#sk-container-id-2 div.sk-dashed-wrapped {border: 1px dashed gray;margin: 0 0.4em 0.5em 0.4em;box-sizing: border-box;padding-bottom: 0.4em;background-color: white;}#sk-container-id-2 div.sk-label label {font-family: monospace;font-weight: bold;display: inline-block;line-height: 1.2em;}#sk-container-id-2 div.sk-label-container {text-align: center;}#sk-container-id-2 div.sk-container {/* jupyter's `normalize.less` sets `[hidden] { display: none; }` but bootstrap.min.css set `[hidden] { display: none !important; }` so we also need the `!important` here to be able to override the default hidden behavior on the sphinx rendered scikit-learn.org. See: https://github.com/scikit-learn/scikit-learn/issues/21755 */display: inline-block !important;position: relative;}#sk-container-id-2 div.sk-text-repr-fallback {display: none;}</style><div id=\"sk-container-id-2\" class=\"sk-top-container\"><div class=\"sk-text-repr-fallback\"><pre>RandomForestRegressor(max_depth=50, max_features=10, min_samples_split=5,\n",
       "                      n_estimators=200, random_state=42)</pre><b>In a Jupyter environment, please rerun this cell to show the HTML representation or trust the notebook. <br />On GitHub, the HTML representation is unable to render, please try loading this page with nbviewer.org.</b></div><div class=\"sk-container\" hidden><div class=\"sk-item\"><div class=\"sk-estimator sk-toggleable\"><input class=\"sk-toggleable__control sk-hidden--visually\" id=\"sk-estimator-id-2\" type=\"checkbox\" checked><label for=\"sk-estimator-id-2\" class=\"sk-toggleable__label sk-toggleable__label-arrow\">RandomForestRegressor</label><div class=\"sk-toggleable__content\"><pre>RandomForestRegressor(max_depth=50, max_features=10, min_samples_split=5,\n",
       "                      n_estimators=200, random_state=42)</pre></div></div></div></div></div>"
      ],
      "text/plain": [
       "RandomForestRegressor(max_depth=50, max_features=10, min_samples_split=5,\n",
       "                      n_estimators=200, random_state=42)"
      ]
     },
     "execution_count": 19,
     "metadata": {},
     "output_type": "execute_result"
    }
   ],
   "source": [
    "# Build Random Forest model\n",
    "\n",
    "RF_model = RandomForestRegressor(\n",
    "    random_state=42,\n",
    "    max_depth=50,\n",
    "    max_features=10,\n",
    "    min_samples_leaf=1,\n",
    "    min_samples_split=5,\n",
    "    n_estimators=200\n",
    ")\n",
    "RF_model.fit(x_train,y_train)"
   ]
  },
  {
   "cell_type": "code",
   "execution_count": 20,
   "metadata": {},
   "outputs": [
    {
     "name": "stdout",
     "output_type": "stream",
     "text": [
      "[3162725.61199495  492670.91558001 2737886.19365873 1595226.62380952\n",
      " 1066836.03690476  619535.23015873  472183.48484848  569346.21799034\n",
      " 2485730.72689123  652915.97998052]\n"
     ]
    }
   ],
   "source": [
    "# Generate predictions\n",
    "\n",
    "RF_pred = RF_model.predict(x_test)\n",
    "print(RF_pred[:10])"
   ]
  },
  {
   "cell_type": "code",
   "execution_count": 52,
   "metadata": {},
   "outputs": [
    {
     "data": {
      "text/html": [
       "<div>\n",
       "<style scoped>\n",
       "    .dataframe tbody tr th:only-of-type {\n",
       "        vertical-align: middle;\n",
       "    }\n",
       "\n",
       "    .dataframe tbody tr th {\n",
       "        vertical-align: top;\n",
       "    }\n",
       "\n",
       "    .dataframe thead th {\n",
       "        text-align: right;\n",
       "    }\n",
       "</style>\n",
       "<table border=\"1\" class=\"dataframe\">\n",
       "  <thead>\n",
       "    <tr style=\"text-align: right;\">\n",
       "      <th></th>\n",
       "      <th>Metric</th>\n",
       "      <th>Random Forest</th>\n",
       "    </tr>\n",
       "  </thead>\n",
       "  <tbody>\n",
       "    <tr>\n",
       "      <th>0</th>\n",
       "      <td>MAE</td>\n",
       "      <td>153912.1050</td>\n",
       "    </tr>\n",
       "    <tr>\n",
       "      <th>1</th>\n",
       "      <td>MSE</td>\n",
       "      <td>105087480164.8240</td>\n",
       "    </tr>\n",
       "    <tr>\n",
       "      <th>2</th>\n",
       "      <td>RMSE</td>\n",
       "      <td>324171.9920</td>\n",
       "    </tr>\n",
       "    <tr>\n",
       "      <th>3</th>\n",
       "      <td>R-Squared</td>\n",
       "      <td>0.9030</td>\n",
       "    </tr>\n",
       "  </tbody>\n",
       "</table>\n",
       "</div>"
      ],
      "text/plain": [
       "      Metric     Random Forest\n",
       "0        MAE       153912.1050\n",
       "1        MSE 105087480164.8240\n",
       "2       RMSE       324171.9920\n",
       "3  R-Squared            0.9030"
      ]
     },
     "execution_count": 52,
     "metadata": {},
     "output_type": "execute_result"
    }
   ],
   "source": [
    "# Find metrics\n",
    "from sklearn import metrics\n",
    "\n",
    "RF_metrics = pd.DataFrame ({'Metric':\n",
    "['MAE',\n",
    "'MSE',\n",
    "'RMSE',\n",
    "'R-Squared'], 'Random Forest':\n",
    "[metrics.mean_absolute_error(y_test, RF_pred),\n",
    "metrics.mean_squared_error (y_test, RF_pred),\n",
    "np.sqrt (metrics.mean_squared_error (y_test, RF_pred)),\n",
    "metrics.explained_variance_score (y_test, RF_pred)]}).round(3)\n",
    "RF_metrics"
   ]
  },
  {
   "cell_type": "code",
   "execution_count": 54,
   "metadata": {},
   "outputs": [
    {
     "name": "stdout",
     "output_type": "stream",
     "text": [
      "      Metric             Value\n",
      "0        MAE       154756.0170\n",
      "1        MSE 111541987810.6820\n",
      "2       RMSE       333979.0230\n",
      "3  R-Squared            0.8970\n"
     ]
    }
   ],
   "source": [
    "from sklearn import metrics\n",
    "\n",
    "a = RandomForestRegressor(random_state=42)\n",
    "a.fit(x_train, y_train)\n",
    "b = a.predict(x_test)\n",
    "c = pd.DataFrame ({'Metric':\n",
    "['MAE',\n",
    "'MSE',\n",
    "'RMSE',\n",
    "'R-Squared'], 'Value':\n",
    "[metrics.mean_absolute_error (y_test, b),\n",
    "metrics.mean_squared_error (y_test, b),\n",
    "np.sqrt (metrics.mean_squared_error (y_test, b)),\n",
    "metrics.explained_variance_score (y_test, b)]}).round(3)\n",
    "print(c)"
   ]
  },
  {
   "cell_type": "code",
   "execution_count": 77,
   "metadata": {},
   "outputs": [],
   "source": [
    "# Set the color palette to 'rocket'\n",
    "rocket_colors = sns.color_palette('rocket')\n",
    "\n",
    "# Select the color at index 4\n",
    "col1 = rocket_colors[4]\n",
    "col2 = rocket_colors[1]"
   ]
  },
  {
   "cell_type": "code",
   "execution_count": 59,
   "metadata": {},
   "outputs": [
    {
     "data": {
      "text/html": [
       "<div>\n",
       "<style scoped>\n",
       "    .dataframe tbody tr th:only-of-type {\n",
       "        vertical-align: middle;\n",
       "    }\n",
       "\n",
       "    .dataframe tbody tr th {\n",
       "        vertical-align: top;\n",
       "    }\n",
       "\n",
       "    .dataframe thead th {\n",
       "        text-align: right;\n",
       "    }\n",
       "</style>\n",
       "<table border=\"1\" class=\"dataframe\">\n",
       "  <thead>\n",
       "    <tr style=\"text-align: right;\">\n",
       "      <th></th>\n",
       "      <th>XGBoost</th>\n",
       "      <th>Random Forest</th>\n",
       "    </tr>\n",
       "    <tr>\n",
       "      <th>Metric</th>\n",
       "      <th></th>\n",
       "      <th></th>\n",
       "    </tr>\n",
       "  </thead>\n",
       "  <tbody>\n",
       "    <tr>\n",
       "      <th>MAE</th>\n",
       "      <td>149333.6267</td>\n",
       "      <td>153912.1050</td>\n",
       "    </tr>\n",
       "    <tr>\n",
       "      <th>MSE</th>\n",
       "      <td>96422484087.3409</td>\n",
       "      <td>105087480164.8240</td>\n",
       "    </tr>\n",
       "    <tr>\n",
       "      <th>RMSE</th>\n",
       "      <td>310519.7000</td>\n",
       "      <td>324171.9920</td>\n",
       "    </tr>\n",
       "    <tr>\n",
       "      <th>R-Squared</th>\n",
       "      <td>0.9109</td>\n",
       "      <td>0.9030</td>\n",
       "    </tr>\n",
       "  </tbody>\n",
       "</table>\n",
       "</div>"
      ],
      "text/plain": [
       "                   XGBoost     Random Forest\n",
       "Metric                                      \n",
       "MAE            149333.6267       153912.1050\n",
       "MSE       96422484087.3409 105087480164.8240\n",
       "RMSE           310519.7000       324171.9920\n",
       "R-Squared           0.9109            0.9030"
      ]
     },
     "execution_count": 59,
     "metadata": {},
     "output_type": "execute_result"
    }
   ],
   "source": [
    "metrics = pd.merge(XGB_metrics, RF_metrics, on='Metric', how='inner')\n",
    "metrics.set_index('Metric', inplace=True)\n",
    "metrics"
   ]
  },
  {
   "cell_type": "code",
   "execution_count": 79,
   "metadata": {},
   "outputs": [
    {
     "data": {
      "image/png": "[encoded data removed]",
      "text/plain": [
       "<Figure size 1200x1000 with 4 Axes>"
      ]
     },
     "metadata": {},
     "output_type": "display_data"
    }
   ],
   "source": [
    "# Plotting the four metrics using subplots\n",
    "fig, axes = plt.subplots(2, 2, figsize=(12, 10))\n",
    "\n",
    "# Set the overall title\n",
    "fig.suptitle('Comparison between Metrics', fontsize=16)\n",
    "\n",
    "# Plot MAE\n",
    "axes[0, 0].bar(metrics.columns, metrics.loc['MAE'], color=[col1, col2])\n",
    "axes[0, 0].set_title('MAE')\n",
    "axes[0, 0].set_ylabel('Value')\n",
    "for i, v in enumerate(metrics.loc['MAE']):\n",
    "    axes[0, 0].text(i, v, str(v), ha='center', va='bottom')\n",
    "\n",
    "# Plot MSE\n",
    "axes[0, 1].bar(metrics.columns, metrics.loc['MSE'], color=[col1, col2])\n",
    "axes[0, 1].set_title('MSE')\n",
    "axes[0, 1].set_ylabel('Value')\n",
    "for i, v in enumerate(metrics.loc['MSE']):\n",
    "    axes[0, 1].text(i, v, str(v), ha='center', va='bottom')\n",
    "\n",
    "# Plot RMSE\n",
    "axes[1, 0].bar(metrics.columns, metrics.loc['RMSE'], color=[col1, col2])\n",
    "axes[1, 0].set_title('RMSE')\n",
    "axes[1, 0].set_ylabel('Value')\n",
    "for i, v in enumerate(metrics.loc['RMSE']):\n",
    "    axes[1, 0].text(i, v, str(v), ha='center', va='bottom')\n",
    "\n",
    "# Plot R-Squared\n",
    "axes[1, 1].bar(metrics.columns, metrics.loc['R-Squared'], color=[col1, col2])\n",
    "axes[1, 1].set_title('R-Squared')\n",
    "axes[1, 1].set_ylabel('Value')\n",
    "for i, v in enumerate(metrics.loc['R-Squared']):\n",
    "    axes[1, 1].text(i, v, str(v), ha='center', va='bottom')\n",
    "\n",
    "# Adjust spacing between subplots\n",
    "plt.tight_layout()\n",
    "\n",
    "# Show the plots\n",
    "plt.show()"
   ]
  },
  {
   "cell_type": "code",
   "execution_count": 58,
   "metadata": {},
   "outputs": [
    {
     "data": {
      "image/png": "[encoded data removed]",
      "text/plain": [
       "<Figure size 1000x600 with 1 Axes>"
      ]
     },
     "metadata": {},
     "output_type": "display_data"
    }
   ],
   "source": [
    "# Get the feature importance scores from the trained XGBoost model\n",
    "feature_importance = XGB_model.feature_importances_\n",
    "\n",
    "# Get the names of the columns from your dataset\n",
    "column_names = ['Location', 'Rooms', 'Bathrooms', 'Property type',\\\n",
    "                'Size', 'Furnishing', 'Store Rooms', 'Places of Worship',\\\n",
    "                'Schools', 'Hospitals', 'Malls', 'Restaurants']\n",
    "\n",
    "# Create a DataFrame to store the feature importance scores along with the column names\n",
    "feature_importance_df = pd.DataFrame({'Feature': column_names, 'Importance': feature_importance})\n",
    "\n",
    "# Sort the DataFrame in descending order of importance scores\n",
    "feature_importance_df = feature_importance_df.sort_values(by='Importance', ascending=False)\n",
    "\n",
    "# Plot the feature importance\n",
    "plt.figure(figsize=(10, 6))\n",
    "sns.barplot(data=feature_importance_df, x='Importance', y='Feature', palette='rocket_r')\n",
    "plt.title('Feature Importance')\n",
    "plt.xlabel('Importance')\n",
    "plt.ylabel('Feature')\n",
    "plt.show()"
   ]
  },
  {
   "cell_type": "code",
   "execution_count": 26,
   "metadata": {},
   "outputs": [
    {
     "data": {
      "text/html": [
       "<div>\n",
       "<style scoped>\n",
       "    .dataframe tbody tr th:only-of-type {\n",
       "        vertical-align: middle;\n",
       "    }\n",
       "\n",
       "    .dataframe tbody tr th {\n",
       "        vertical-align: top;\n",
       "    }\n",
       "\n",
       "    .dataframe thead th {\n",
       "        text-align: right;\n",
       "    }\n",
       "</style>\n",
       "<table border=\"1\" class=\"dataframe\">\n",
       "  <thead>\n",
       "    <tr style=\"text-align: right;\">\n",
       "      <th></th>\n",
       "      <th>Location</th>\n",
       "      <th>Rooms</th>\n",
       "      <th>Bathrooms</th>\n",
       "      <th>Property Type</th>\n",
       "      <th>Size</th>\n",
       "      <th>Furnishing</th>\n",
       "      <th>Store Rooms</th>\n",
       "      <th>Places of Worship</th>\n",
       "      <th>Schools</th>\n",
       "      <th>Hospitals</th>\n",
       "      <th>Malls</th>\n",
       "      <th>Restaurants</th>\n",
       "    </tr>\n",
       "  </thead>\n",
       "  <tbody>\n",
       "    <tr>\n",
       "      <th>0</th>\n",
       "      <td>ampang</td>\n",
       "      <td>5</td>\n",
       "      <td>3</td>\n",
       "      <td>Condominium</td>\n",
       "      <td>1900</td>\n",
       "      <td>Partly Furnished</td>\n",
       "      <td>0</td>\n",
       "      <td>53</td>\n",
       "      <td>24</td>\n",
       "      <td>20</td>\n",
       "      <td>5</td>\n",
       "      <td>813</td>\n",
       "    </tr>\n",
       "  </tbody>\n",
       "</table>\n",
       "</div>"
      ],
      "text/plain": [
       "  Location  Rooms  Bathrooms Property Type  Size        Furnishing  \\\n",
       "0   ampang      5          3   Condominium  1900  Partly Furnished   \n",
       "\n",
       "   Store Rooms  Places of Worship  Schools  Hospitals  Malls  Restaurants  \n",
       "0            0                 53       24         20      5          813  "
      ]
     },
     "execution_count": 26,
     "metadata": {},
     "output_type": "execute_result"
    }
   ],
   "source": [
    "d = [['ampang', 5, 3, 'Condominium', 1900, 'Partly Furnished',\\\n",
    "    0, 53, 24, 20, 5, 813]]\n",
    "\n",
    "j = pd.DataFrame(d, columns=['Location', 'Rooms', 'Bathrooms', 'Property Type',\\\n",
    "    'Size', 'Furnishing', 'Store Rooms', 'Places of Worship', 'Schools',\\\n",
    "    'Hospitals', 'Malls', 'Restaurants'])\n",
    "j"
   ]
  },
  {
   "cell_type": "code",
   "execution_count": 27,
   "metadata": {},
   "outputs": [
    {
     "data": {
      "text/html": [
       "<div>\n",
       "<style scoped>\n",
       "    .dataframe tbody tr th:only-of-type {\n",
       "        vertical-align: middle;\n",
       "    }\n",
       "\n",
       "    .dataframe tbody tr th {\n",
       "        vertical-align: top;\n",
       "    }\n",
       "\n",
       "    .dataframe thead th {\n",
       "        text-align: right;\n",
       "    }\n",
       "</style>\n",
       "<table border=\"1\" class=\"dataframe\">\n",
       "  <thead>\n",
       "    <tr style=\"text-align: right;\">\n",
       "      <th></th>\n",
       "      <th>Location</th>\n",
       "      <th>Rooms</th>\n",
       "      <th>Bathrooms</th>\n",
       "      <th>Property Type</th>\n",
       "      <th>Size</th>\n",
       "      <th>Furnishing</th>\n",
       "      <th>Store Rooms</th>\n",
       "      <th>Places of Worship</th>\n",
       "      <th>Schools</th>\n",
       "      <th>Hospitals</th>\n",
       "      <th>Malls</th>\n",
       "      <th>Restaurants</th>\n",
       "    </tr>\n",
       "  </thead>\n",
       "  <tbody>\n",
       "    <tr>\n",
       "      <th>0</th>\n",
       "      <td>ampang</td>\n",
       "      <td>0.6667</td>\n",
       "      <td>0.3333</td>\n",
       "      <td>Condominium</td>\n",
       "      <td>0.3407</td>\n",
       "      <td>Partly Furnished</td>\n",
       "      <td>0.0000</td>\n",
       "      <td>0.9500</td>\n",
       "      <td>0.7857</td>\n",
       "      <td>0.8696</td>\n",
       "      <td>0.6250</td>\n",
       "      <td>0.8123</td>\n",
       "    </tr>\n",
       "  </tbody>\n",
       "</table>\n",
       "</div>"
      ],
      "text/plain": [
       "  Location  Rooms  Bathrooms Property Type   Size        Furnishing  \\\n",
       "0   ampang 0.6667     0.3333   Condominium 0.3407  Partly Furnished   \n",
       "\n",
       "   Store Rooms  Places of Worship  Schools  Hospitals  Malls  Restaurants  \n",
       "0       0.0000             0.9500   0.7857     0.8696 0.6250       0.8123  "
      ]
     },
     "execution_count": 27,
     "metadata": {},
     "output_type": "execute_result"
    }
   ],
   "source": [
    "j[numerical] = scaler.transform(j[numerical])\n",
    "j"
   ]
  },
  {
   "cell_type": "code",
   "execution_count": 28,
   "metadata": {},
   "outputs": [],
   "source": [
    "j['Location'] = le_location.transform(j['Location'])\n",
    "j['Property Type'] = le_proptype.transform(j['Property Type'])\n",
    "j['Furnishing'] = le_furnishing.transform(j['Furnishing'])"
   ]
  },
  {
   "cell_type": "code",
   "execution_count": 29,
   "metadata": {},
   "outputs": [
    {
     "data": {
      "text/html": [
       "<div>\n",
       "<style scoped>\n",
       "    .dataframe tbody tr th:only-of-type {\n",
       "        vertical-align: middle;\n",
       "    }\n",
       "\n",
       "    .dataframe tbody tr th {\n",
       "        vertical-align: top;\n",
       "    }\n",
       "\n",
       "    .dataframe thead th {\n",
       "        text-align: right;\n",
       "    }\n",
       "</style>\n",
       "<table border=\"1\" class=\"dataframe\">\n",
       "  <thead>\n",
       "    <tr style=\"text-align: right;\">\n",
       "      <th></th>\n",
       "      <th>Location</th>\n",
       "      <th>Rooms</th>\n",
       "      <th>Bathrooms</th>\n",
       "      <th>Property Type</th>\n",
       "      <th>Size</th>\n",
       "      <th>Furnishing</th>\n",
       "      <th>Store Rooms</th>\n",
       "      <th>Places of Worship</th>\n",
       "      <th>Schools</th>\n",
       "      <th>Hospitals</th>\n",
       "      <th>Malls</th>\n",
       "      <th>Restaurants</th>\n",
       "    </tr>\n",
       "  </thead>\n",
       "  <tbody>\n",
       "    <tr>\n",
       "      <th>0</th>\n",
       "      <td>0</td>\n",
       "      <td>0.6667</td>\n",
       "      <td>0.3333</td>\n",
       "      <td>2</td>\n",
       "      <td>0.3407</td>\n",
       "      <td>1</td>\n",
       "      <td>0.0000</td>\n",
       "      <td>0.9500</td>\n",
       "      <td>0.7857</td>\n",
       "      <td>0.8696</td>\n",
       "      <td>0.6250</td>\n",
       "      <td>0.8123</td>\n",
       "    </tr>\n",
       "  </tbody>\n",
       "</table>\n",
       "</div>"
      ],
      "text/plain": [
       "   Location  Rooms  Bathrooms  Property Type   Size  Furnishing  Store Rooms  \\\n",
       "0         0 0.6667     0.3333              2 0.3407           1       0.0000   \n",
       "\n",
       "   Places of Worship  Schools  Hospitals  Malls  Restaurants  \n",
       "0             0.9500   0.7857     0.8696 0.6250       0.8123  "
      ]
     },
     "execution_count": 29,
     "metadata": {},
     "output_type": "execute_result"
    }
   ],
   "source": [
    "j"
   ]
  },
  {
   "cell_type": "code",
   "execution_count": 25,
   "metadata": {},
   "outputs": [
    {
     "ename": "NameError",
     "evalue": "name 'XGB_model' is not defined",
     "output_type": "error",
     "traceback": [
      "\u001b[1;31m---------------------------------------------------------------------------\u001b[0m",
      "\u001b[1;31mNameError\u001b[0m                                 Traceback (most recent call last)",
      "Cell \u001b[1;32mIn[25], line 1\u001b[0m\n\u001b[1;32m----> 1\u001b[0m \u001b[43mXGB_model\u001b[49m\u001b[38;5;241m.\u001b[39mpredict(j)\n",
      "\u001b[1;31mNameError\u001b[0m: name 'XGB_model' is not defined"
     ]
    }
   ],
   "source": [
    "XGB_model.predict(j)"
   ]
  },
  {
   "cell_type": "code",
   "execution_count": 76,
   "metadata": {},
   "outputs": [],
   "source": [
    "data = {\n",
    "    'model': XGB_model,\n",
    "    'le_location': le_location,\n",
    "    'le_proptype': le_proptype,\n",
    "    'le_furnishing': le_furnishing\n",
    "}\n",
    "\n",
    "with open('saved_steps.pkl', 'wb') as file:\n",
    "    pickle.dump(data, file)"
   ]
  },
  {
   "cell_type": "code",
   "execution_count": null,
   "metadata": {},
   "outputs": [],
   "source": []
  }
 ],
 "metadata": {
  "kernelspec": {
   "display_name": "Python 3 (ipykernel)",
   "language": "python",
   "name": "python3"
  },
  "language_info": {
   "codemirror_mode": {
    "name": "ipython",
    "version": 3
   },
   "file_extension": ".py",
   "mimetype": "text/x-python",
   "name": "python",
   "nbconvert_exporter": "python",
   "pygments_lexer": "ipython3",
   "version": "3.8.16"
  }
 },
 "nbformat": 4,
 "nbformat_minor": 4
}
